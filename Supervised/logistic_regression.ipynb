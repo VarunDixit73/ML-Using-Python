{
 "cells": [
  {
   "cell_type": "code",
   "execution_count": 1,
   "metadata": {},
   "outputs": [],
   "source": [
    "import pandas as pd\n",
    "from sklearn.model_selection import train_test_split\n",
    "from sklearn.linear_model import LogisticRegression\n",
    "import matplotlib.pyplot as plt\n",
    "import plotly.express as px"
   ]
  },
  {
   "cell_type": "code",
   "execution_count": 2,
   "metadata": {},
   "outputs": [
    {
     "data": {
      "text/html": [
       "<div>\n",
       "<style scoped>\n",
       "    .dataframe tbody tr th:only-of-type {\n",
       "        vertical-align: middle;\n",
       "    }\n",
       "\n",
       "    .dataframe tbody tr th {\n",
       "        vertical-align: top;\n",
       "    }\n",
       "\n",
       "    .dataframe thead th {\n",
       "        text-align: right;\n",
       "    }\n",
       "</style>\n",
       "<table border=\"1\" class=\"dataframe\">\n",
       "  <thead>\n",
       "    <tr style=\"text-align: right;\">\n",
       "      <th></th>\n",
       "      <th>User ID</th>\n",
       "      <th>Gender</th>\n",
       "      <th>Age</th>\n",
       "      <th>EstimatedSalary</th>\n",
       "      <th>Purchased</th>\n",
       "    </tr>\n",
       "  </thead>\n",
       "  <tbody>\n",
       "    <tr>\n",
       "      <th>0</th>\n",
       "      <td>15624510</td>\n",
       "      <td>Male</td>\n",
       "      <td>19</td>\n",
       "      <td>19000</td>\n",
       "      <td>0</td>\n",
       "    </tr>\n",
       "    <tr>\n",
       "      <th>1</th>\n",
       "      <td>15810944</td>\n",
       "      <td>Male</td>\n",
       "      <td>35</td>\n",
       "      <td>20000</td>\n",
       "      <td>0</td>\n",
       "    </tr>\n",
       "    <tr>\n",
       "      <th>2</th>\n",
       "      <td>15668575</td>\n",
       "      <td>Female</td>\n",
       "      <td>26</td>\n",
       "      <td>43000</td>\n",
       "      <td>0</td>\n",
       "    </tr>\n",
       "    <tr>\n",
       "      <th>3</th>\n",
       "      <td>15603246</td>\n",
       "      <td>Female</td>\n",
       "      <td>27</td>\n",
       "      <td>57000</td>\n",
       "      <td>0</td>\n",
       "    </tr>\n",
       "    <tr>\n",
       "      <th>4</th>\n",
       "      <td>15804002</td>\n",
       "      <td>Male</td>\n",
       "      <td>19</td>\n",
       "      <td>76000</td>\n",
       "      <td>0</td>\n",
       "    </tr>\n",
       "  </tbody>\n",
       "</table>\n",
       "</div>"
      ],
      "text/plain": [
       "    User ID  Gender  Age  EstimatedSalary  Purchased\n",
       "0  15624510    Male   19            19000          0\n",
       "1  15810944    Male   35            20000          0\n",
       "2  15668575  Female   26            43000          0\n",
       "3  15603246  Female   27            57000          0\n",
       "4  15804002    Male   19            76000          0"
      ]
     },
     "execution_count": 2,
     "metadata": {},
     "output_type": "execute_result"
    }
   ],
   "source": [
    "df = pd.read_csv('https://raw.githubusercontent.com/digipodium/Datasets/main/Social_Network_Ads.csv')\n",
    "df.head()"
   ]
  },
  {
   "cell_type": "code",
   "execution_count": 3,
   "metadata": {},
   "outputs": [
    {
     "data": {
      "text/plain": [
       "<AxesSubplot:xlabel='Age', ylabel='Purchased'>"
      ]
     },
     "execution_count": 3,
     "metadata": {},
     "output_type": "execute_result"
    },
    {
     "data": {
      "image/png": "[encoded data removed]",
      "text/plain": [
       "<Figure size 1440x360 with 1 Axes>"
      ]
     },
     "metadata": {
      "needs_background": "light"
     },
     "output_type": "display_data"
    }
   ],
   "source": [
    "df.plot(kind='scatter',x=\"Age\",y='Purchased',color = 'green',alpha=.4,figsize=(20,5))"
   ]
  },
  {
   "cell_type": "code",
   "execution_count": 4,
   "metadata": {},
   "outputs": [
    {
     "data": {
      "text/plain": [
       "<AxesSubplot:>"
      ]
     },
     "execution_count": 4,
     "metadata": {},
     "output_type": "execute_result"
    },
    {
     "data": {
      "image/png": "[encoded data removed]",
      "text/plain": [
       "<Figure size 432x288 with 1 Axes>"
      ]
     },
     "metadata": {
      "needs_background": "light"
     },
     "output_type": "display_data"
    }
   ],
   "source": [
    "df.Purchased.value_counts().plot(kind ='bar')"
   ]
  },
  {
   "cell_type": "code",
   "execution_count": 5,
   "metadata": {},
   "outputs": [
    {
     "data": {
      "text/plain": [
       "((320, 1), (80, 1))"
      ]
     },
     "execution_count": 5,
     "metadata": {},
     "output_type": "execute_result"
    }
   ],
   "source": [
    "X = df[['Age']]\n",
    "y = df['Purchased']\n",
    "xtrain,xtest,ytrain,ytest = train_test_split(X,y,test_size=.2,random_state=1)\n",
    "xtrain.shape,xtest.shape"
   ]
  },
  {
   "cell_type": "code",
   "execution_count": 6,
   "metadata": {},
   "outputs": [
    {
     "data": {
      "text/plain": [
       "LogisticRegression()"
      ]
     },
     "execution_count": 6,
     "metadata": {},
     "output_type": "execute_result"
    }
   ],
   "source": [
    "m = LogisticRegression()\n",
    "m.fit(xtrain,ytrain)"
   ]
  },
  {
   "cell_type": "code",
   "execution_count": 7,
   "metadata": {},
   "outputs": [
    {
     "data": {
      "text/plain": [
       "0.825"
      ]
     },
     "execution_count": 7,
     "metadata": {},
     "output_type": "execute_result"
    }
   ],
   "source": [
    "m.score(xtest,ytest)    # you should not see the score like this, we use other stuff"
   ]
  },
  {
   "cell_type": "code",
   "execution_count": 8,
   "metadata": {},
   "outputs": [],
   "source": [
    "from sklearn.metrics import classification_report\n",
    "from sklearn.metrics import confusion_matrix"
   ]
  },
  {
   "cell_type": "code",
   "execution_count": 9,
   "metadata": {},
   "outputs": [],
   "source": [
    "ypred=m.predict(xtest)"
   ]
  },
  {
   "cell_type": "code",
   "execution_count": 10,
   "metadata": {},
   "outputs": [],
   "source": [
    "import seaborn as sns"
   ]
  },
  {
   "cell_type": "code",
   "execution_count": 11,
   "metadata": {},
   "outputs": [
    {
     "name": "stdout",
     "output_type": "stream",
     "text": [
      "\u001b[1;31mSignature:\u001b[0m\n",
      "\u001b[0msns\u001b[0m\u001b[1;33m.\u001b[0m\u001b[0mheatmap\u001b[0m\u001b[1;33m(\u001b[0m\u001b[1;33m\n",
      "\u001b[0m    \u001b[0mdata\u001b[0m\u001b[1;33m,\u001b[0m\u001b[1;33m\n",
      "\u001b[0m    \u001b[1;33m*\u001b[0m\u001b[1;33m,\u001b[0m\u001b[1;33m\n",
      "\u001b[0m    \u001b[0mvmin\u001b[0m\u001b[1;33m=\u001b[0m\u001b[1;32mNone\u001b[0m\u001b[1;33m,\u001b[0m\u001b[1;33m\n",
      "\u001b[0m    \u001b[0mvmax\u001b[0m\u001b[1;33m=\u001b[0m\u001b[1;32mNone\u001b[0m\u001b[1;33m,\u001b[0m\u001b[1;33m\n",
      "\u001b[0m    \u001b[0mcmap\u001b[0m\u001b[1;33m=\u001b[0m\u001b[1;32mNone\u001b[0m\u001b[1;33m,\u001b[0m\u001b[1;33m\n",
      "\u001b[0m    \u001b[0mcenter\u001b[0m\u001b[1;33m=\u001b[0m\u001b[1;32mNone\u001b[0m\u001b[1;33m,\u001b[0m\u001b[1;33m\n",
      "\u001b[0m    \u001b[0mrobust\u001b[0m\u001b[1;33m=\u001b[0m\u001b[1;32mFalse\u001b[0m\u001b[1;33m,\u001b[0m\u001b[1;33m\n",
      "\u001b[0m    \u001b[0mannot\u001b[0m\u001b[1;33m=\u001b[0m\u001b[1;32mNone\u001b[0m\u001b[1;33m,\u001b[0m\u001b[1;33m\n",
      "\u001b[0m    \u001b[0mfmt\u001b[0m\u001b[1;33m=\u001b[0m\u001b[1;34m'.2g'\u001b[0m\u001b[1;33m,\u001b[0m\u001b[1;33m\n",
      "\u001b[0m    \u001b[0mannot_kws\u001b[0m\u001b[1;33m=\u001b[0m\u001b[1;32mNone\u001b[0m\u001b[1;33m,\u001b[0m\u001b[1;33m\n",
      "\u001b[0m    \u001b[0mlinewidths\u001b[0m\u001b[1;33m=\u001b[0m\u001b[1;36m0\u001b[0m\u001b[1;33m,\u001b[0m\u001b[1;33m\n",
      "\u001b[0m    \u001b[0mlinecolor\u001b[0m\u001b[1;33m=\u001b[0m\u001b[1;34m'white'\u001b[0m\u001b[1;33m,\u001b[0m\u001b[1;33m\n",
      "\u001b[0m    \u001b[0mcbar\u001b[0m\u001b[1;33m=\u001b[0m\u001b[1;32mTrue\u001b[0m\u001b[1;33m,\u001b[0m\u001b[1;33m\n",
      "\u001b[0m    \u001b[0mcbar_kws\u001b[0m\u001b[1;33m=\u001b[0m\u001b[1;32mNone\u001b[0m\u001b[1;33m,\u001b[0m\u001b[1;33m\n",
      "\u001b[0m    \u001b[0mcbar_ax\u001b[0m\u001b[1;33m=\u001b[0m\u001b[1;32mNone\u001b[0m\u001b[1;33m,\u001b[0m\u001b[1;33m\n",
      "\u001b[0m    \u001b[0msquare\u001b[0m\u001b[1;33m=\u001b[0m\u001b[1;32mFalse\u001b[0m\u001b[1;33m,\u001b[0m\u001b[1;33m\n",
      "\u001b[0m    \u001b[0mxticklabels\u001b[0m\u001b[1;33m=\u001b[0m\u001b[1;34m'auto'\u001b[0m\u001b[1;33m,\u001b[0m\u001b[1;33m\n",
      "\u001b[0m    \u001b[0myticklabels\u001b[0m\u001b[1;33m=\u001b[0m\u001b[1;34m'auto'\u001b[0m\u001b[1;33m,\u001b[0m\u001b[1;33m\n",
      "\u001b[0m    \u001b[0mmask\u001b[0m\u001b[1;33m=\u001b[0m\u001b[1;32mNone\u001b[0m\u001b[1;33m,\u001b[0m\u001b[1;33m\n",
      "\u001b[0m    \u001b[0max\u001b[0m\u001b[1;33m=\u001b[0m\u001b[1;32mNone\u001b[0m\u001b[1;33m,\u001b[0m\u001b[1;33m\n",
      "\u001b[0m    \u001b[1;33m**\u001b[0m\u001b[0mkwargs\u001b[0m\u001b[1;33m,\u001b[0m\u001b[1;33m\n",
      "\u001b[0m\u001b[1;33m)\u001b[0m\u001b[1;33m\u001b[0m\u001b[1;33m\u001b[0m\u001b[0m\n",
      "\u001b[1;31mDocstring:\u001b[0m\n",
      "Plot rectangular data as a color-encoded matrix.\n",
      "\n",
      "This is an Axes-level function and will draw the heatmap into the\n",
      "currently-active Axes if none is provided to the ``ax`` argument.  Part of\n",
      "this Axes space will be taken and used to plot a colormap, unless ``cbar``\n",
      "is False or a separate Axes is provided to ``cbar_ax``.\n",
      "\n",
      "Parameters\n",
      "----------\n",
      "data : rectangular dataset\n",
      "    2D dataset that can be coerced into an ndarray. If a Pandas DataFrame\n",
      "    is provided, the index/column information will be used to label the\n",
      "    columns and rows.\n",
      "vmin, vmax : floats, optional\n",
      "    Values to anchor the colormap, otherwise they are inferred from the\n",
      "    data and other keyword arguments.\n",
      "cmap : matplotlib colormap name or object, or list of colors, optional\n",
      "    The mapping from data values to color space. If not provided, the\n",
      "    default will depend on whether ``center`` is set.\n",
      "center : float, optional\n",
      "    The value at which to center the colormap when plotting divergant data.\n",
      "    Using this parameter will change the default ``cmap`` if none is\n",
      "    specified.\n",
      "robust : bool, optional\n",
      "    If True and ``vmin`` or ``vmax`` are absent, the colormap range is\n",
      "    computed with robust quantiles instead of the extreme values.\n",
      "annot : bool or rectangular dataset, optional\n",
      "    If True, write the data value in each cell. If an array-like with the\n",
      "    same shape as ``data``, then use this to annotate the heatmap instead\n",
      "    of the data. Note that DataFrames will match on position, not index.\n",
      "fmt : str, optional\n",
      "    String formatting code to use when adding annotations.\n",
      "annot_kws : dict of key, value mappings, optional\n",
      "    Keyword arguments for :meth:`matplotlib.axes.Axes.text` when ``annot``\n",
      "    is True.\n",
      "linewidths : float, optional\n",
      "    Width of the lines that will divide each cell.\n",
      "linecolor : color, optional\n",
      "    Color of the lines that will divide each cell.\n",
      "cbar : bool, optional\n",
      "    Whether to draw a colorbar.\n",
      "cbar_kws : dict of key, value mappings, optional\n",
      "    Keyword arguments for :meth:`matplotlib.figure.Figure.colorbar`.\n",
      "cbar_ax : matplotlib Axes, optional\n",
      "    Axes in which to draw the colorbar, otherwise take space from the\n",
      "    main Axes.\n",
      "square : bool, optional\n",
      "    If True, set the Axes aspect to \"equal\" so each cell will be\n",
      "    square-shaped.\n",
      "xticklabels, yticklabels : \"auto\", bool, list-like, or int, optional\n",
      "    If True, plot the column names of the dataframe. If False, don't plot\n",
      "    the column names. If list-like, plot these alternate labels as the\n",
      "    xticklabels. If an integer, use the column names but plot only every\n",
      "    n label. If \"auto\", try to densely plot non-overlapping labels.\n",
      "mask : bool array or DataFrame, optional\n",
      "    If passed, data will not be shown in cells where ``mask`` is True.\n",
      "    Cells with missing values are automatically masked.\n",
      "ax : matplotlib Axes, optional\n",
      "    Axes in which to draw the plot, otherwise use the currently-active\n",
      "    Axes.\n",
      "kwargs : other keyword arguments\n",
      "    All other keyword arguments are passed to\n",
      "    :meth:`matplotlib.axes.Axes.pcolormesh`.\n",
      "\n",
      "Returns\n",
      "-------\n",
      "ax : matplotlib Axes\n",
      "    Axes object with the heatmap.\n",
      "\n",
      "See Also\n",
      "--------\n",
      "clustermap : Plot a matrix using hierachical clustering to arrange the\n",
      "             rows and columns.\n",
      "\n",
      "Examples\n",
      "--------\n",
      "\n",
      "Plot a heatmap for a numpy array:\n",
      "\n",
      ".. plot::\n",
      "    :context: close-figs\n",
      "\n",
      "    >>> import numpy as np; np.random.seed(0)\n",
      "    >>> import seaborn as sns; sns.set_theme()\n",
      "    >>> uniform_data = np.random.rand(10, 12)\n",
      "    >>> ax = sns.heatmap(uniform_data)\n",
      "\n",
      "Change the limits of the colormap:\n",
      "\n",
      ".. plot::\n",
      "    :context: close-figs\n",
      "\n",
      "    >>> ax = sns.heatmap(uniform_data, vmin=0, vmax=1)\n",
      "\n",
      "Plot a heatmap for data centered on 0 with a diverging colormap:\n",
      "\n",
      ".. plot::\n",
      "    :context: close-figs\n",
      "\n",
      "    >>> normal_data = np.random.randn(10, 12)\n",
      "    >>> ax = sns.heatmap(normal_data, center=0)\n",
      "\n",
      "Plot a dataframe with meaningful row and column labels:\n",
      "\n",
      ".. plot::\n",
      "    :context: close-figs\n",
      "\n",
      "    >>> flights = sns.load_dataset(\"flights\")\n",
      "    >>> flights = flights.pivot(\"month\", \"year\", \"passengers\")\n",
      "    >>> ax = sns.heatmap(flights)\n",
      "\n",
      "Annotate each cell with the numeric value using integer formatting:\n",
      "\n",
      ".. plot::\n",
      "    :context: close-figs\n",
      "\n",
      "    >>> ax = sns.heatmap(flights, annot=True, fmt=\"d\")\n",
      "\n",
      "Add lines between each cell:\n",
      "\n",
      ".. plot::\n",
      "    :context: close-figs\n",
      "\n",
      "    >>> ax = sns.heatmap(flights, linewidths=.5)\n",
      "\n",
      "Use a different colormap:\n",
      "\n",
      ".. plot::\n",
      "    :context: close-figs\n",
      "\n",
      "    >>> ax = sns.heatmap(flights, cmap=\"YlGnBu\")\n",
      "\n",
      "Center the colormap at a specific value:\n",
      "\n",
      ".. plot::\n",
      "    :context: close-figs\n",
      "\n",
      "    >>> ax = sns.heatmap(flights, center=flights.loc[\"Jan\", 1955])\n",
      "\n",
      "Plot every other column label and don't plot row labels:\n",
      "\n",
      ".. plot::\n",
      "    :context: close-figs\n",
      "\n",
      "    >>> data = np.random.randn(50, 20)\n",
      "    >>> ax = sns.heatmap(data, xticklabels=2, yticklabels=False)\n",
      "\n",
      "Don't draw a colorbar:\n",
      "\n",
      ".. plot::\n",
      "    :context: close-figs\n",
      "\n",
      "    >>> ax = sns.heatmap(flights, cbar=False)\n",
      "\n",
      "Use different axes for the colorbar:\n",
      "\n",
      ".. plot::\n",
      "    :context: close-figs\n",
      "\n",
      "    >>> grid_kws = {\"height_ratios\": (.9, .05), \"hspace\": .3}\n",
      "    >>> f, (ax, cbar_ax) = plt.subplots(2, gridspec_kw=grid_kws)\n",
      "    >>> ax = sns.heatmap(flights, ax=ax,\n",
      "    ...                  cbar_ax=cbar_ax,\n",
      "    ...                  cbar_kws={\"orientation\": \"horizontal\"})\n",
      "\n",
      "Use a mask to plot only part of a matrix\n",
      "\n",
      ".. plot::\n",
      "    :context: close-figs\n",
      "\n",
      "    >>> corr = np.corrcoef(np.random.randn(10, 200))\n",
      "    >>> mask = np.zeros_like(corr)\n",
      "    >>> mask[np.triu_indices_from(mask)] = True\n",
      "    >>> with sns.axes_style(\"white\"):\n",
      "    ...     f, ax = plt.subplots(figsize=(7, 5))\n",
      "    ...     ax = sns.heatmap(corr, mask=mask, vmax=.3, square=True)\n",
      "\u001b[1;31mFile:\u001b[0m      c:\\users\\varun\\appdata\\local\\programs\\python\\python39\\lib\\site-packages\\seaborn\\matrix.py\n",
      "\u001b[1;31mType:\u001b[0m      function\n"
     ]
    }
   ],
   "source": [
    "sns.heatmap?\n"
   ]
  },
  {
   "cell_type": "code",
   "execution_count": 12,
   "metadata": {},
   "outputs": [
    {
     "name": "stdout",
     "output_type": "stream",
     "text": [
      "[[42  6]\n",
      " [ 8 24]]\n"
     ]
    },
    {
     "data": {
      "image/png": "[encoded data removed]",
      "text/plain": [
       "<Figure size 432x288 with 2 Axes>"
      ]
     },
     "metadata": {
      "needs_background": "light"
     },
     "output_type": "display_data"
    }
   ],
   "source": [
    "cn = confusion_matrix(ytest,ypred)\n",
    "sns.heatmap(cn,xticklabels=['0','1'],yticklabels=['0','1'])\n",
    "print(cn)"
   ]
  },
  {
   "cell_type": "code",
   "execution_count": 13,
   "metadata": {},
   "outputs": [
    {
     "name": "stdout",
     "output_type": "stream",
     "text": [
      "              precision    recall  f1-score   support\n",
      "\n",
      "           0       0.84      0.88      0.86        48\n",
      "           1       0.80      0.75      0.77        32\n",
      "\n",
      "    accuracy                           0.82        80\n",
      "   macro avg       0.82      0.81      0.82        80\n",
      "weighted avg       0.82      0.82      0.82        80\n",
      "\n"
     ]
    }
   ],
   "source": [
    "print(classification_report(ytest,ypred))"
   ]
  },
  {
   "cell_type": "markdown",
   "metadata": {},
   "source": [
    "### Prediction"
   ]
  },
  {
   "cell_type": "code",
   "execution_count": 14,
   "metadata": {},
   "outputs": [
    {
     "name": "stdout",
     "output_type": "stream",
     "text": [
      "0\n"
     ]
    },
    {
     "name": "stderr",
     "output_type": "stream",
     "text": [
      "C:\\Users\\varun\\AppData\\Local\\Programs\\Python\\Python39\\lib\\site-packages\\sklearn\\base.py:450: UserWarning: X does not have valid feature names, but LogisticRegression was fitted with feature names\n",
      "  warnings.warn(\n"
     ]
    }
   ],
   "source": [
    "age = int(input('Enter the age of viewer'))\n",
    "inp = [[age]]   # vector\n",
    "print(m.predict(inp)[0])"
   ]
  },
  {
   "cell_type": "code",
   "execution_count": 15,
   "metadata": {},
   "outputs": [
    {
     "data": {
      "text/plain": [
       "<AxesSubplot:xlabel='EstimatedSalary', ylabel='Purchased'>"
      ]
     },
     "execution_count": 15,
     "metadata": {},
     "output_type": "execute_result"
    },
    {
     "data": {
      "image/png": "[encoded data removed]",
      "text/plain": [
       "<Figure size 1440x360 with 1 Axes>"
      ]
     },
     "metadata": {
      "needs_background": "light"
     },
     "output_type": "display_data"
    }
   ],
   "source": [
    "df.plot(kind='scatter',x=\"EstimatedSalary\",y='Purchased',color = 'green',alpha=.4,figsize=(20,5))"
   ]
  },
  {
   "cell_type": "code",
   "execution_count": 16,
   "metadata": {},
   "outputs": [
    {
     "data": {
      "text/plain": [
       "((320, 1), (80, 1))"
      ]
     },
     "execution_count": 16,
     "metadata": {},
     "output_type": "execute_result"
    }
   ],
   "source": [
    "X = df[['EstimatedSalary']]\n",
    "y = df['Purchased']\n",
    "xtrain,xtest,ytrain,ytest = train_test_split(X,y,test_size=.2,random_state=1)\n",
    "xtrain.shape,xtest.shape"
   ]
  },
  {
   "cell_type": "code",
   "execution_count": 17,
   "metadata": {},
   "outputs": [
    {
     "data": {
      "text/plain": [
       "LogisticRegression()"
      ]
     },
     "execution_count": 17,
     "metadata": {},
     "output_type": "execute_result"
    }
   ],
   "source": [
    "m = LogisticRegression()\n",
    "m.fit(xtrain,ytrain)"
   ]
  },
  {
   "cell_type": "code",
   "execution_count": 18,
   "metadata": {},
   "outputs": [],
   "source": [
    "ypred=m.predict(xtest)"
   ]
  },
  {
   "cell_type": "code",
   "execution_count": 19,
   "metadata": {},
   "outputs": [
    {
     "name": "stdout",
     "output_type": "stream",
     "text": [
      "[[48  0]\n",
      " [32  0]]\n"
     ]
    },
    {
     "data": {
      "image/png": "[encoded data removed]",
      "text/plain": [
       "<Figure size 432x288 with 2 Axes>"
      ]
     },
     "metadata": {
      "needs_background": "light"
     },
     "output_type": "display_data"
    }
   ],
   "source": [
    "cn = confusion_matrix(ytest,ypred)\n",
    "sns.heatmap(cn,xticklabels=['0','1'],yticklabels=['0','1'])\n",
    "print(cn)"
   ]
  },
  {
   "cell_type": "code",
   "execution_count": 20,
   "metadata": {},
   "outputs": [
    {
     "name": "stdout",
     "output_type": "stream",
     "text": [
      "              precision    recall  f1-score   support\n",
      "\n",
      "           0       0.60      1.00      0.75        48\n",
      "           1       0.00      0.00      0.00        32\n",
      "\n",
      "    accuracy                           0.60        80\n",
      "   macro avg       0.30      0.50      0.37        80\n",
      "weighted avg       0.36      0.60      0.45        80\n",
      "\n"
     ]
    },
    {
     "name": "stderr",
     "output_type": "stream",
     "text": [
      "C:\\Users\\varun\\AppData\\Local\\Programs\\Python\\Python39\\lib\\site-packages\\sklearn\\metrics\\_classification.py:1318: UndefinedMetricWarning: Precision and F-score are ill-defined and being set to 0.0 in labels with no predicted samples. Use `zero_division` parameter to control this behavior.\n",
      "  _warn_prf(average, modifier, msg_start, len(result))\n",
      "C:\\Users\\varun\\AppData\\Local\\Programs\\Python\\Python39\\lib\\site-packages\\sklearn\\metrics\\_classification.py:1318: UndefinedMetricWarning: Precision and F-score are ill-defined and being set to 0.0 in labels with no predicted samples. Use `zero_division` parameter to control this behavior.\n",
      "  _warn_prf(average, modifier, msg_start, len(result))\n",
      "C:\\Users\\varun\\AppData\\Local\\Programs\\Python\\Python39\\lib\\site-packages\\sklearn\\metrics\\_classification.py:1318: UndefinedMetricWarning: Precision and F-score are ill-defined and being set to 0.0 in labels with no predicted samples. Use `zero_division` parameter to control this behavior.\n",
      "  _warn_prf(average, modifier, msg_start, len(result))\n"
     ]
    }
   ],
   "source": [
    "print(classification_report(ytest,ypred))"
   ]
  },
  {
   "cell_type": "code",
   "execution_count": 21,
   "metadata": {},
   "outputs": [
    {
     "name": "stdout",
     "output_type": "stream",
     "text": [
      "0\n"
     ]
    },
    {
     "name": "stderr",
     "output_type": "stream",
     "text": [
      "C:\\Users\\varun\\AppData\\Local\\Programs\\Python\\Python39\\lib\\site-packages\\sklearn\\base.py:450: UserWarning: X does not have valid feature names, but LogisticRegression was fitted with feature names\n",
      "  warnings.warn(\n"
     ]
    }
   ],
   "source": [
    "esalary = int(input('Enter the salary of viewer'))\n",
    "inp1 = [[esalary]]   # vector\n",
    "print(m.predict(inp1)[0])"
   ]
  },
  {
   "cell_type": "code",
   "execution_count": null,
   "metadata": {},
   "outputs": [],
   "source": []
  }
 ],
 "metadata": {
  "interpreter": {
   "hash": "d6fae5423283988a1f203f784ae9cfad4c34cb6feea49a0d1f54c80e10af6504"
  },
  "kernelspec": {
   "display_name": "Python 3.9.7 64-bit",
   "language": "python",
   "name": "python3"
  },
  "language_info": {
   "codemirror_mode": {
    "name": "ipython",
    "version": 3
   },
   "file_extension": ".py",
   "mimetype": "text/x-python",
   "name": "python",
   "nbconvert_exporter": "python",
   "pygments_lexer": "ipython3",
   "version": "3.9.7"
  },
  "orig_nbformat": 4
 },
 "nbformat": 4,
 "nbformat_minor": 2
}
