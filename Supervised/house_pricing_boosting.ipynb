{
 "cells": [
  {
   "cell_type": "code",
   "execution_count": 30,
   "metadata": {},
   "outputs": [],
   "source": [
    "import pandas as pd\n",
    "import numpy as np\n",
    "import xgboost as xgb\n",
    "import plotly.express as px\n",
    "import seaborn as sns\n",
    "import matplotlib.pyplot as plt\n",
    "\n",
    "\n",
    "from sklearn.model_selection import train_test_split\n",
    "from sklearn.preprocessing import StandardScaler\n",
    "from sklearn.impute import SimpleImputer\n",
    "from sklearn.preprocessing import LabelEncoder, OneHotEncoder\n",
    "from sklearn.linear_model import LinearRegression"
   ]
  },
  {
   "cell_type": "code",
   "execution_count": 7,
   "metadata": {},
   "outputs": [],
   "source": [
    "pd.set_option('display.max_columns', None)"
   ]
  },
  {
   "cell_type": "code",
   "execution_count": 8,
   "metadata": {},
   "outputs": [
    {
     "data": {
      "text/html": [
       "<div>\n",
       "<style scoped>\n",
       "    .dataframe tbody tr th:only-of-type {\n",
       "        vertical-align: middle;\n",
       "    }\n",
       "\n",
       "    .dataframe tbody tr th {\n",
       "        vertical-align: top;\n",
       "    }\n",
       "\n",
       "    .dataframe thead th {\n",
       "        text-align: right;\n",
       "    }\n",
       "</style>\n",
       "<table border=\"1\" class=\"dataframe\">\n",
       "  <thead>\n",
       "    <tr style=\"text-align: right;\">\n",
       "      <th></th>\n",
       "      <th>City</th>\n",
       "      <th>Type</th>\n",
       "      <th>Beds</th>\n",
       "      <th>Baths</th>\n",
       "      <th>SquareFeet</th>\n",
       "      <th>Price</th>\n",
       "    </tr>\n",
       "  </thead>\n",
       "  <tbody>\n",
       "    <tr>\n",
       "      <th>0</th>\n",
       "      <td>SACRAMENTO</td>\n",
       "      <td>Residential</td>\n",
       "      <td>2</td>\n",
       "      <td>1</td>\n",
       "      <td>836</td>\n",
       "      <td>138159.85</td>\n",
       "    </tr>\n",
       "    <tr>\n",
       "      <th>1</th>\n",
       "      <td>SACRAMENTO</td>\n",
       "      <td>Residential</td>\n",
       "      <td>3</td>\n",
       "      <td>1</td>\n",
       "      <td>1167</td>\n",
       "      <td>167541.46</td>\n",
       "    </tr>\n",
       "    <tr>\n",
       "      <th>2</th>\n",
       "      <td>SACRAMENTO</td>\n",
       "      <td>Residential</td>\n",
       "      <td>2</td>\n",
       "      <td>1</td>\n",
       "      <td>796</td>\n",
       "      <td>119095.12</td>\n",
       "    </tr>\n",
       "    <tr>\n",
       "      <th>3</th>\n",
       "      <td>SACRAMENTO</td>\n",
       "      <td>Residential</td>\n",
       "      <td>2</td>\n",
       "      <td>1</td>\n",
       "      <td>852</td>\n",
       "      <td>130904.95</td>\n",
       "    </tr>\n",
       "    <tr>\n",
       "      <th>4</th>\n",
       "      <td>SACRAMENTO</td>\n",
       "      <td>Residential</td>\n",
       "      <td>2</td>\n",
       "      <td>1</td>\n",
       "      <td>797</td>\n",
       "      <td>120266.19</td>\n",
       "    </tr>\n",
       "  </tbody>\n",
       "</table>\n",
       "</div>"
      ],
      "text/plain": [
       "         City         Type  Beds  Baths  SquareFeet      Price\n",
       "0  SACRAMENTO  Residential     2      1         836  138159.85\n",
       "1  SACRAMENTO  Residential     3      1        1167  167541.46\n",
       "2  SACRAMENTO  Residential     2      1         796  119095.12\n",
       "3  SACRAMENTO  Residential     2      1         852  130904.95\n",
       "4  SACRAMENTO  Residential     2      1         797  120266.19"
      ]
     },
     "execution_count": 8,
     "metadata": {},
     "output_type": "execute_result"
    }
   ],
   "source": [
    "df = pd.read_csv('https://raw.githubusercontent.com/digipodium/Datasets/main/house_pricing.csv')\n",
    "df.head()"
   ]
  },
  {
   "cell_type": "code",
   "execution_count": 9,
   "metadata": {},
   "outputs": [
    {
     "name": "stdout",
     "output_type": "stream",
     "text": [
      "['City', 'Type', 'Beds', 'Baths', 'SquareFeet', 'Price']\n"
     ]
    }
   ],
   "source": [
    "print(df.columns.tolist())"
   ]
  },
  {
   "cell_type": "code",
   "execution_count": 11,
   "metadata": {},
   "outputs": [],
   "source": [
    "X = df[['Beds','Baths','SquareFeet']]\n",
    "y  = df['Price']"
   ]
  },
  {
   "cell_type": "code",
   "execution_count": 12,
   "metadata": {},
   "outputs": [],
   "source": [
    "data_matrix = xgb.DMatrix(X,y)"
   ]
  },
  {
   "cell_type": "code",
   "execution_count": 13,
   "metadata": {},
   "outputs": [
    {
     "data": {
      "text/html": [
       "<div>\n",
       "<style scoped>\n",
       "    .dataframe tbody tr th:only-of-type {\n",
       "        vertical-align: middle;\n",
       "    }\n",
       "\n",
       "    .dataframe tbody tr th {\n",
       "        vertical-align: top;\n",
       "    }\n",
       "\n",
       "    .dataframe thead th {\n",
       "        text-align: right;\n",
       "    }\n",
       "</style>\n",
       "<table border=\"1\" class=\"dataframe\">\n",
       "  <thead>\n",
       "    <tr style=\"text-align: right;\">\n",
       "      <th></th>\n",
       "      <th>train-rmse-mean</th>\n",
       "      <th>train-rmse-std</th>\n",
       "      <th>train-mae-mean</th>\n",
       "      <th>train-mae-std</th>\n",
       "      <th>test-rmse-mean</th>\n",
       "      <th>test-rmse-std</th>\n",
       "      <th>test-mae-mean</th>\n",
       "      <th>test-mae-std</th>\n",
       "    </tr>\n",
       "  </thead>\n",
       "  <tbody>\n",
       "    <tr>\n",
       "      <th>0</th>\n",
       "      <td>256239.557292</td>\n",
       "      <td>2333.819371</td>\n",
       "      <td>237279.359375</td>\n",
       "      <td>2396.131101</td>\n",
       "      <td>256206.869792</td>\n",
       "      <td>4700.038664</td>\n",
       "      <td>237269.390625</td>\n",
       "      <td>4773.382037</td>\n",
       "    </tr>\n",
       "    <tr>\n",
       "      <th>1</th>\n",
       "      <td>253795.562500</td>\n",
       "      <td>2308.400033</td>\n",
       "      <td>234934.979167</td>\n",
       "      <td>2372.270088</td>\n",
       "      <td>253766.322917</td>\n",
       "      <td>4629.855031</td>\n",
       "      <td>234918.161458</td>\n",
       "      <td>4705.302076</td>\n",
       "    </tr>\n",
       "    <tr>\n",
       "      <th>2</th>\n",
       "      <td>251376.619792</td>\n",
       "      <td>2283.126506</td>\n",
       "      <td>232612.432292</td>\n",
       "      <td>2349.567353</td>\n",
       "      <td>251351.088542</td>\n",
       "      <td>4560.587006</td>\n",
       "      <td>232592.291667</td>\n",
       "      <td>4639.394721</td>\n",
       "    </tr>\n",
       "    <tr>\n",
       "      <th>3</th>\n",
       "      <td>248982.203125</td>\n",
       "      <td>2258.205376</td>\n",
       "      <td>230314.161458</td>\n",
       "      <td>2326.170607</td>\n",
       "      <td>248960.416667</td>\n",
       "      <td>4491.814223</td>\n",
       "      <td>230298.046875</td>\n",
       "      <td>4580.218062</td>\n",
       "    </tr>\n",
       "    <tr>\n",
       "      <th>4</th>\n",
       "      <td>246612.140625</td>\n",
       "      <td>2233.561076</td>\n",
       "      <td>228038.593750</td>\n",
       "      <td>2302.994799</td>\n",
       "      <td>246593.984375</td>\n",
       "      <td>4423.541007</td>\n",
       "      <td>228025.984375</td>\n",
       "      <td>4521.292982</td>\n",
       "    </tr>\n",
       "    <tr>\n",
       "      <th>...</th>\n",
       "      <td>...</td>\n",
       "      <td>...</td>\n",
       "      <td>...</td>\n",
       "      <td>...</td>\n",
       "      <td>...</td>\n",
       "      <td>...</td>\n",
       "      <td>...</td>\n",
       "      <td>...</td>\n",
       "    </tr>\n",
       "    <tr>\n",
       "      <th>332</th>\n",
       "      <td>25872.660807</td>\n",
       "      <td>1402.291091</td>\n",
       "      <td>14849.144206</td>\n",
       "      <td>660.656372</td>\n",
       "      <td>53379.207032</td>\n",
       "      <td>6411.411212</td>\n",
       "      <td>27593.164714</td>\n",
       "      <td>2233.704890</td>\n",
       "    </tr>\n",
       "    <tr>\n",
       "      <th>333</th>\n",
       "      <td>25756.571615</td>\n",
       "      <td>1408.602061</td>\n",
       "      <td>14774.551107</td>\n",
       "      <td>664.368256</td>\n",
       "      <td>53382.450521</td>\n",
       "      <td>6427.602531</td>\n",
       "      <td>27592.366536</td>\n",
       "      <td>2234.500838</td>\n",
       "    </tr>\n",
       "    <tr>\n",
       "      <th>334</th>\n",
       "      <td>25641.880859</td>\n",
       "      <td>1415.684657</td>\n",
       "      <td>14699.767903</td>\n",
       "      <td>666.687947</td>\n",
       "      <td>53385.404948</td>\n",
       "      <td>6444.055465</td>\n",
       "      <td>27590.766276</td>\n",
       "      <td>2236.746579</td>\n",
       "    </tr>\n",
       "    <tr>\n",
       "      <th>335</th>\n",
       "      <td>25529.656901</td>\n",
       "      <td>1419.542622</td>\n",
       "      <td>14625.430990</td>\n",
       "      <td>667.463666</td>\n",
       "      <td>53386.372396</td>\n",
       "      <td>6461.787982</td>\n",
       "      <td>27588.584636</td>\n",
       "      <td>2240.369906</td>\n",
       "    </tr>\n",
       "    <tr>\n",
       "      <th>336</th>\n",
       "      <td>25417.493490</td>\n",
       "      <td>1424.576781</td>\n",
       "      <td>14553.278320</td>\n",
       "      <td>670.097255</td>\n",
       "      <td>53390.154948</td>\n",
       "      <td>6477.031545</td>\n",
       "      <td>27588.288412</td>\n",
       "      <td>2243.637125</td>\n",
       "    </tr>\n",
       "  </tbody>\n",
       "</table>\n",
       "<p>337 rows × 8 columns</p>\n",
       "</div>"
      ],
      "text/plain": [
       "     train-rmse-mean  train-rmse-std  train-mae-mean  train-mae-std  \\\n",
       "0      256239.557292     2333.819371   237279.359375    2396.131101   \n",
       "1      253795.562500     2308.400033   234934.979167    2372.270088   \n",
       "2      251376.619792     2283.126506   232612.432292    2349.567353   \n",
       "3      248982.203125     2258.205376   230314.161458    2326.170607   \n",
       "4      246612.140625     2233.561076   228038.593750    2302.994799   \n",
       "..               ...             ...             ...            ...   \n",
       "332     25872.660807     1402.291091    14849.144206     660.656372   \n",
       "333     25756.571615     1408.602061    14774.551107     664.368256   \n",
       "334     25641.880859     1415.684657    14699.767903     666.687947   \n",
       "335     25529.656901     1419.542622    14625.430990     667.463666   \n",
       "336     25417.493490     1424.576781    14553.278320     670.097255   \n",
       "\n",
       "     test-rmse-mean  test-rmse-std  test-mae-mean  test-mae-std  \n",
       "0     256206.869792    4700.038664  237269.390625   4773.382037  \n",
       "1     253766.322917    4629.855031  234918.161458   4705.302076  \n",
       "2     251351.088542    4560.587006  232592.291667   4639.394721  \n",
       "3     248960.416667    4491.814223  230298.046875   4580.218062  \n",
       "4     246593.984375    4423.541007  228025.984375   4521.292982  \n",
       "..              ...            ...            ...           ...  \n",
       "332    53379.207032    6411.411212   27593.164714   2233.704890  \n",
       "333    53382.450521    6427.602531   27592.366536   2234.500838  \n",
       "334    53385.404948    6444.055465   27590.766276   2236.746579  \n",
       "335    53386.372396    6461.787982   27588.584636   2240.369906  \n",
       "336    53390.154948    6477.031545   27588.288412   2243.637125  \n",
       "\n",
       "[337 rows x 8 columns]"
      ]
     },
     "execution_count": 13,
     "metadata": {},
     "output_type": "execute_result"
    }
   ],
   "source": [
    "params = {\n",
    "    'learning_rate' : .01,\n",
    "    'max_depth' : 15,\n",
    "    'alpha' : 10,\n",
    "}\n",
    "\n",
    "results = xgb.cv(\n",
    "    params,\n",
    "    data_matrix,\n",
    "    num_boost_round=500,\n",
    "    early_stopping_rounds=5,\n",
    "    metrics=['rmse','mae']\n",
    ")\n",
    "results"
   ]
  },
  {
   "cell_type": "code",
   "execution_count": 14,
   "metadata": {},
   "outputs": [
    {
     "data": {
      "text/plain": [
       "<AxesSubplot:>"
      ]
     },
     "execution_count": 14,
     "metadata": {},
     "output_type": "execute_result"
    },
    {
     "data": {
      "image/png": "[encoded data removed]",
      "text/plain": [
       "<Figure size 432x288 with 1 Axes>"
      ]
     },
     "metadata": {
      "needs_background": "light"
     },
     "output_type": "display_data"
    }
   ],
   "source": [
    "results['test-rmse-mean'].plot()"
   ]
  },
  {
   "cell_type": "code",
   "execution_count": 15,
   "metadata": {},
   "outputs": [
    {
     "name": "stdout",
     "output_type": "stream",
     "text": [
      "Current best params: (5, 0.01, 0)\n",
      "Current best params: (5, 0.01, 5)\n",
      "Current best params: (5, 0.01, 5)\n",
      "Current best params: (5, 0.01, 5)\n",
      "Current best params: (5, 0.01, 20)\n",
      "Current best params: (5, 0.01, 20)\n",
      "Current best params: (5, 0.01, 20)\n",
      "Current best params: (5, 0.01, 20)\n",
      "Current best params: (5, 0.01, 40)\n",
      "Current best params: (5, 0.01, 40)\n",
      "Current best params: (5, 0.01, 40)\n",
      "Current best params: (5, 0.01, 40)\n",
      "Current best params: (5, 0.01, 40)\n",
      "Current best params: (5, 0.01, 40)\n",
      "Current best params: (5, 0.01, 40)\n",
      "Current best params: (5, 0.01, 40)\n",
      "Current best params: (5, 0.01, 40)\n",
      "Current best params: (5, 0.01, 40)\n",
      "Current best params: (5, 0.01, 40)\n",
      "Current best params: (5, 0.01, 40)\n",
      "Current best params: (5, 0.5, 0)\n",
      "Current best params: (5, 0.5, 5)\n",
      "Current best params: (5, 0.5, 10)\n",
      "Current best params: (5, 0.5, 15)\n",
      "Current best params: (5, 0.5, 20)\n",
      "Current best params: (5, 0.5, 25)\n",
      "Current best params: (5, 0.5, 30)\n",
      "Current best params: (5, 0.5, 35)\n",
      "Current best params: (5, 0.5, 40)\n",
      "Current best params: (5, 0.5, 45)\n",
      "Current best params: (5, 0.5, 45)\n",
      "Current best params: (5, 0.5, 45)\n",
      "Current best params: (5, 0.5, 45)\n",
      "Current best params: (5, 0.5, 45)\n",
      "Current best params: (5, 0.5, 45)\n",
      "Current best params: (5, 0.5, 45)\n",
      "Current best params: (5, 0.5, 45)\n",
      "Current best params: (5, 0.5, 45)\n",
      "Current best params: (5, 0.5, 45)\n",
      "Current best params: (5, 0.5, 45)\n",
      "Current best params: (5, 0.5, 45)\n",
      "Current best params: (5, 0.5, 45)\n",
      "Current best params: (5, 0.5, 45)\n",
      "Current best params: (5, 0.5, 45)\n",
      "Current best params: (5, 0.5, 45)\n",
      "Current best params: (5, 0.5, 45)\n",
      "Current best params: (5, 0.5, 45)\n",
      "Current best params: (5, 0.5, 45)\n",
      "Current best params: (5, 0.5, 45)\n",
      "Current best params: (5, 0.5, 45)\n",
      "Current best params: (5, 0.5, 45)\n",
      "Current best params: (5, 0.5, 45)\n",
      "Current best params: (5, 0.5, 45)\n",
      "Current best params: (5, 0.5, 45)\n",
      "Current best params: (5, 0.5, 45)\n",
      "Current best params: (5, 0.5, 45)\n",
      "Current best params: (5, 0.5, 45)\n",
      "Current best params: (5, 0.5, 45)\n",
      "Current best params: (5, 0.5, 45)\n",
      "Current best params: (5, 0.5, 45)\n",
      "Current best params: (5, 0.5, 45)\n",
      "Current best params: (5, 0.5, 45)\n",
      "Current best params: (5, 0.5, 45)\n",
      "Current best params: (5, 0.5, 45)\n",
      "Current best params: (5, 0.5, 45)\n",
      "Current best params: (5, 0.5, 45)\n",
      "Current best params: (5, 0.5, 45)\n",
      "Current best params: (5, 0.5, 45)\n",
      "Current best params: (5, 0.5, 45)\n",
      "Current best params: (5, 0.5, 45)\n",
      "Current best params: (5, 0.5, 45)\n",
      "Current best params: (5, 0.5, 45)\n",
      "Current best params: (5, 0.5, 45)\n",
      "Current best params: (5, 0.5, 45)\n",
      "Current best params: (5, 0.5, 45)\n",
      "Current best params: (5, 0.5, 45)\n",
      "Current best params: (5, 0.5, 45)\n",
      "Current best params: (5, 0.5, 45)\n",
      "Current best params: (5, 0.5, 45)\n",
      "Current best params: (5, 0.5, 45)\n",
      "Current best params: (5, 0.5, 45)\n",
      "Current best params: (5, 0.5, 45)\n",
      "Current best params: (5, 0.5, 45)\n",
      "Current best params: (5, 0.5, 45)\n",
      "Current best params: (5, 0.5, 45)\n",
      "Current best params: (5, 0.5, 45)\n",
      "Current best params: (5, 0.5, 45)\n",
      "Current best params: (5, 0.5, 45)\n",
      "Current best params: (5, 0.5, 45)\n",
      "Current best params: (5, 0.5, 45)\n"
     ]
    }
   ],
   "source": [
    "grid_params = [\n",
    "    (max_depth, learning_rate, alpha)\n",
    "    for max_depth in range(5,20,5)\n",
    "    for learning_rate in [.01,.1,.5]\n",
    "    for alpha in range(0,50,5)\n",
    "]\n",
    "\n",
    "min_rmse = float('inf')\n",
    "best_params = None\n",
    "\n",
    "for max_depth,learning_rate,alpha in grid_params:\n",
    "    params = {\n",
    "        'max_depth' : max_depth,\n",
    "        'learning_rate' : learning_rate,\n",
    "        'alpha' : alpha,\n",
    "    }\n",
    "    results = xgb.cv(\n",
    "        params,\n",
    "        data_matrix,\n",
    "        num_boost_round=500,\n",
    "        early_stopping_rounds=5,\n",
    "        metrics='rmse',\n",
    "    )\n",
    "    current_rmse = results['test-rmse-mean'].min()\n",
    "    if current_rmse < min_rmse:\n",
    "        min_rmse = current_rmse\n",
    "        best_params = (max_depth,learning_rate,alpha)\n",
    "    print(f'Current best params: {best_params}')"
   ]
  },
  {
   "cell_type": "code",
   "execution_count": 16,
   "metadata": {},
   "outputs": [],
   "source": [
    "from sklearn.model_selection import train_test_split"
   ]
  },
  {
   "cell_type": "code",
   "execution_count": 17,
   "metadata": {},
   "outputs": [],
   "source": [
    "xtrain, xtest, ytrain, ytest= train_test_split(X,y,test_size=.3,random_state=1234)"
   ]
  },
  {
   "cell_type": "code",
   "execution_count": 18,
   "metadata": {},
   "outputs": [],
   "source": [
    "train_matrix = xgb.DMatrix(xtrain,ytrain)\n",
    "test_matrix = xgb.DMatrix(xtest,ytest)"
   ]
  },
  {
   "cell_type": "code",
   "execution_count": 20,
   "metadata": {},
   "outputs": [
    {
     "name": "stdout",
     "output_type": "stream",
     "text": [
      "[0]\ttest-rmse:128478.05469\n",
      "[1]\ttest-rmse:72552.41406\n",
      "[2]\ttest-rmse:50759.97266\n",
      "[3]\ttest-rmse:45224.84375\n",
      "[4]\ttest-rmse:44384.85938\n",
      "[5]\ttest-rmse:44402.20312\n",
      "[6]\ttest-rmse:45123.16016\n",
      "[7]\ttest-rmse:46184.93750\n",
      "[8]\ttest-rmse:46765.60156\n",
      "[9]\ttest-rmse:47195.58594\n"
     ]
    }
   ],
   "source": [
    "model = xgb.train(\n",
    "    params,\n",
    "    train_matrix,\n",
    "    num_boost_round=500,\n",
    "    early_stopping_rounds=5,\n",
    "    evals=[(test_matrix,'test')],\n",
    ")\n",
    "model.save_model('kbc_house_model.xgb')"
   ]
  },
  {
   "cell_type": "code",
   "execution_count": 21,
   "metadata": {},
   "outputs": [],
   "source": [
    "saved_model = xgb.Booster()\n",
    "saved_model.load_model('kbc_house_model.xgb')"
   ]
  },
  {
   "cell_type": "code",
   "execution_count": 22,
   "metadata": {},
   "outputs": [
    {
     "data": {
      "text/html": [
       "<div>\n",
       "<style scoped>\n",
       "    .dataframe tbody tr th:only-of-type {\n",
       "        vertical-align: middle;\n",
       "    }\n",
       "\n",
       "    .dataframe tbody tr th {\n",
       "        vertical-align: top;\n",
       "    }\n",
       "\n",
       "    .dataframe thead th {\n",
       "        text-align: right;\n",
       "    }\n",
       "</style>\n",
       "<table border=\"1\" class=\"dataframe\">\n",
       "  <thead>\n",
       "    <tr style=\"text-align: right;\">\n",
       "      <th></th>\n",
       "      <th>Beds</th>\n",
       "      <th>Baths</th>\n",
       "      <th>SquareFeet</th>\n",
       "    </tr>\n",
       "  </thead>\n",
       "  <tbody>\n",
       "    <tr>\n",
       "      <th>0</th>\n",
       "      <td>2</td>\n",
       "      <td>1</td>\n",
       "      <td>836</td>\n",
       "    </tr>\n",
       "    <tr>\n",
       "      <th>1</th>\n",
       "      <td>3</td>\n",
       "      <td>1</td>\n",
       "      <td>1167</td>\n",
       "    </tr>\n",
       "  </tbody>\n",
       "</table>\n",
       "</div>"
      ],
      "text/plain": [
       "   Beds  Baths  SquareFeet\n",
       "0     2      1         836\n",
       "1     3      1        1167"
      ]
     },
     "execution_count": 22,
     "metadata": {},
     "output_type": "execute_result"
    }
   ],
   "source": [
    "X.head(2)"
   ]
  },
  {
   "cell_type": "code",
   "execution_count": 23,
   "metadata": {},
   "outputs": [
    {
     "data": {
      "text/plain": [
       "array([136308.56, 174246.06], dtype=float32)"
      ]
     },
     "execution_count": 23,
     "metadata": {},
     "output_type": "execute_result"
    }
   ],
   "source": [
    "saved_model.predict(xgb.DMatrix(X.head(2)))"
   ]
  },
  {
   "cell_type": "code",
   "execution_count": 24,
   "metadata": {},
   "outputs": [
    {
     "data": {
      "text/plain": [
       "0    138159.85\n",
       "1    167541.46\n",
       "Name: Price, dtype: float64"
      ]
     },
     "execution_count": 24,
     "metadata": {},
     "output_type": "execute_result"
    }
   ],
   "source": [
    "y[:2]"
   ]
  },
  {
   "cell_type": "code",
   "execution_count": 25,
   "metadata": {},
   "outputs": [
    {
     "data": {
      "text/plain": [
       "<AxesSubplot:title={'center':'Feature importance'}, xlabel='F score', ylabel='Features'>"
      ]
     },
     "execution_count": 25,
     "metadata": {},
     "output_type": "execute_result"
    },
    {
     "data": {
      "image/png": "[encoded data removed]",
      "text/plain": [
       "<Figure size 432x288 with 1 Axes>"
      ]
     },
     "metadata": {
      "needs_background": "light"
     },
     "output_type": "display_data"
    }
   ],
   "source": [
    "xgb.plot_importance(model)"
   ]
  },
  {
   "cell_type": "code",
   "execution_count": 27,
   "metadata": {},
   "outputs": [
    {
     "data": {
      "text/plain": [
       "<AxesSubplot:title={'center':'Feature importance'}, xlabel='F score', ylabel='Features'>"
      ]
     },
     "execution_count": 27,
     "metadata": {},
     "output_type": "execute_result"
    },
    {
     "data": {
      "image/png": "[encoded data removed]",
      "text/plain": [
       "<Figure size 720x1080 with 1 Axes>"
      ]
     },
     "metadata": {
      "needs_background": "light"
     },
     "output_type": "display_data"
    }
   ],
   "source": [
    "f,a = plt.subplots(figsize=(10,15))\n",
    "xgb.plot_importance(model,ax=a)"
   ]
  },
  {
   "cell_type": "code",
   "execution_count": 31,
   "metadata": {},
   "outputs": [
    {
     "data": {
      "text/plain": [
       "78.35439807630098"
      ]
     },
     "execution_count": 31,
     "metadata": {},
     "output_type": "execute_result"
    }
   ],
   "source": [
    "model = LinearRegression()\n",
    "model.fit(xtrain,ytrain)\n",
    "model.score(xtest,ytest) * 100"
   ]
  },
  {
   "cell_type": "code",
   "execution_count": 32,
   "metadata": {},
   "outputs": [],
   "source": [
    "pred = model.predict(X)"
   ]
  },
  {
   "cell_type": "code",
   "execution_count": 33,
   "metadata": {},
   "outputs": [],
   "source": [
    "df['pred'] = pred"
   ]
  },
  {
   "cell_type": "code",
   "execution_count": 36,
   "metadata": {},
   "outputs": [
    {
     "data": {
      "image/png": "[encoded data removed]",
      "text/plain": [
       "<Figure size 1080x360 with 1 Axes>"
      ]
     },
     "metadata": {
      "needs_background": "light"
     },
     "output_type": "display_data"
    }
   ],
   "source": [
    "ax = df['Price'].plot(kind='kde',figsize=(15,5))\n",
    "df['pred'].plot(kind='kde',ax=ax,color='red',alpha=.5,linewidth=10)\n",
    "plt.show()"
   ]
  },
  {
   "cell_type": "code",
   "execution_count": null,
   "metadata": {},
   "outputs": [],
   "source": []
  }
 ],
 "metadata": {
  "interpreter": {
   "hash": "d6fae5423283988a1f203f784ae9cfad4c34cb6feea49a0d1f54c80e10af6504"
  },
  "kernelspec": {
   "display_name": "Python 3.9.7 64-bit",
   "language": "python",
   "name": "python3"
  },
  "language_info": {
   "codemirror_mode": {
    "name": "ipython",
    "version": 3
   },
   "file_extension": ".py",
   "mimetype": "text/x-python",
   "name": "python",
   "nbconvert_exporter": "python",
   "pygments_lexer": "ipython3",
   "version": "3.9.7"
  },
  "orig_nbformat": 4
 },
 "nbformat": 4,
 "nbformat_minor": 2
}
