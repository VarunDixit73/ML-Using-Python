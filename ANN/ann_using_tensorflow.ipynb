{
 "cells": [
  {
   "cell_type": "code",
   "execution_count": 41,
   "metadata": {},
   "outputs": [],
   "source": [
    "import tensorflow as tf"
   ]
  },
  {
   "cell_type": "code",
   "execution_count": 42,
   "metadata": {},
   "outputs": [
    {
     "data": {
      "text/plain": [
       "'2.8.0'"
      ]
     },
     "execution_count": 42,
     "metadata": {},
     "output_type": "execute_result"
    }
   ],
   "source": [
    "tf.__version__"
   ]
  },
  {
   "cell_type": "code",
   "execution_count": 43,
   "metadata": {},
   "outputs": [],
   "source": [
    "(xtrain,ytrain),(xtest,ytest) = tf.keras.datasets.boston_housing.load_data()"
   ]
  },
  {
   "cell_type": "code",
   "execution_count": 44,
   "metadata": {},
   "outputs": [
    {
     "data": {
      "text/plain": [
       "(102, 13)"
      ]
     },
     "execution_count": 44,
     "metadata": {},
     "output_type": "execute_result"
    }
   ],
   "source": [
    "xtest.shape"
   ]
  },
  {
   "cell_type": "code",
   "execution_count": 45,
   "metadata": {},
   "outputs": [
    {
     "data": {
      "text/plain": [
       "(102,)"
      ]
     },
     "execution_count": 45,
     "metadata": {},
     "output_type": "execute_result"
    }
   ],
   "source": [
    "ytest.shape"
   ]
  },
  {
   "cell_type": "markdown",
   "metadata": {},
   "source": [
    "### Build a Model"
   ]
  },
  {
   "cell_type": "code",
   "execution_count": 46,
   "metadata": {},
   "outputs": [],
   "source": [
    "norm = tf.keras.layers.Normalization()\n",
    "norm.adapt(xtrain)\n",
    "norm_xtrain = norm(xtrain)\n",
    "norm_xtest = norm(xtest)"
   ]
  },
  {
   "cell_type": "code",
   "execution_count": 47,
   "metadata": {},
   "outputs": [
    {
     "name": "stdout",
     "output_type": "stream",
     "text": [
      "Model: \"sequential_5\"\n",
      "_________________________________________________________________\n",
      " Layer (type)                Output Shape              Param #   \n",
      "=================================================================\n",
      " dense_15 (Dense)            (None, 32)                448       \n",
      "                                                                 \n",
      " dense_16 (Dense)            (None, 32)                1056      \n",
      "                                                                 \n",
      " dense_17 (Dense)            (None, 1)                 33        \n",
      "                                                                 \n",
      "=================================================================\n",
      "Total params: 1,537\n",
      "Trainable params: 1,537\n",
      "Non-trainable params: 0\n",
      "_________________________________________________________________\n"
     ]
    }
   ],
   "source": [
    "model = tf.keras.models.Sequential()\n",
    "model.add(tf.keras.layers.Dense(32, input_shape =(13,), activation='relu'))\n",
    "model.add(tf.keras.layers.Dense(32, activation='relu'))\n",
    "model.add(tf.keras.layers.Dense(1))\n",
    "model.summary()\n"
   ]
  },
  {
   "cell_type": "markdown",
   "metadata": {},
   "source": [
    "### compile the model"
   ]
  },
  {
   "cell_type": "code",
   "execution_count": 48,
   "metadata": {},
   "outputs": [],
   "source": [
    "model.compile(\n",
    "    optimizer = tf.keras.optimizers.Adam(),\n",
    "    loss = 'mean_absolute_error',\n",
    ")"
   ]
  },
  {
   "cell_type": "code",
   "execution_count": 49,
   "metadata": {},
   "outputs": [],
   "source": [
    "es = tf.keras.callbacks.EarlyStopping(patience=5)"
   ]
  },
  {
   "cell_type": "code",
   "execution_count": 50,
   "metadata": {},
   "outputs": [
    {
     "name": "stdout",
     "output_type": "stream",
     "text": [
      "Epoch 1/100\n",
      "13/13 [==============================] - 0s 9ms/step - loss: 86.3619 - val_loss: 39.8882\n",
      "Epoch 2/100\n",
      "13/13 [==============================] - 0s 3ms/step - loss: 29.2669 - val_loss: 22.9332\n",
      "Epoch 3/100\n",
      "13/13 [==============================] - 0s 3ms/step - loss: 13.8292 - val_loss: 9.6157\n",
      "Epoch 4/100\n",
      "13/13 [==============================] - 0s 3ms/step - loss: 8.7861 - val_loss: 6.9880\n",
      "Epoch 5/100\n",
      "13/13 [==============================] - 0s 4ms/step - loss: 6.2380 - val_loss: 5.9902\n",
      "Epoch 6/100\n",
      "13/13 [==============================] - 0s 3ms/step - loss: 5.3989 - val_loss: 5.8429\n",
      "Epoch 7/100\n",
      "13/13 [==============================] - 0s 3ms/step - loss: 5.1961 - val_loss: 5.7624\n",
      "Epoch 8/100\n",
      "13/13 [==============================] - 0s 3ms/step - loss: 5.2520 - val_loss: 5.6753\n",
      "Epoch 9/100\n",
      "13/13 [==============================] - 0s 3ms/step - loss: 5.1625 - val_loss: 5.8628\n",
      "Epoch 10/100\n",
      "13/13 [==============================] - 0s 3ms/step - loss: 5.1441 - val_loss: 6.0322\n",
      "Epoch 11/100\n",
      "13/13 [==============================] - 0s 3ms/step - loss: 5.2059 - val_loss: 5.6220\n",
      "Epoch 12/100\n",
      "13/13 [==============================] - 0s 3ms/step - loss: 5.0282 - val_loss: 5.5320\n",
      "Epoch 13/100\n",
      "13/13 [==============================] - 0s 3ms/step - loss: 5.0518 - val_loss: 5.5935\n",
      "Epoch 14/100\n",
      "13/13 [==============================] - 0s 3ms/step - loss: 5.0007 - val_loss: 5.8301\n",
      "Epoch 15/100\n",
      "13/13 [==============================] - 0s 3ms/step - loss: 4.8560 - val_loss: 5.6735\n",
      "Epoch 16/100\n",
      "13/13 [==============================] - 0s 3ms/step - loss: 4.8585 - val_loss: 5.5431\n",
      "Epoch 17/100\n",
      "13/13 [==============================] - 0s 3ms/step - loss: 4.8473 - val_loss: 5.4585\n",
      "Epoch 18/100\n",
      "13/13 [==============================] - 0s 3ms/step - loss: 4.7737 - val_loss: 5.5063\n",
      "Epoch 19/100\n",
      "13/13 [==============================] - 0s 3ms/step - loss: 4.7555 - val_loss: 5.4643\n",
      "Epoch 20/100\n",
      "13/13 [==============================] - 0s 3ms/step - loss: 4.7252 - val_loss: 5.5001\n",
      "Epoch 21/100\n",
      "13/13 [==============================] - 0s 3ms/step - loss: 4.8618 - val_loss: 5.2992\n",
      "Epoch 22/100\n",
      "13/13 [==============================] - 0s 3ms/step - loss: 5.0492 - val_loss: 5.4447\n",
      "Epoch 23/100\n",
      "13/13 [==============================] - 0s 3ms/step - loss: 4.6496 - val_loss: 5.3304\n",
      "Epoch 24/100\n",
      "13/13 [==============================] - 0s 3ms/step - loss: 4.6334 - val_loss: 5.4180\n",
      "Epoch 25/100\n",
      "13/13 [==============================] - 0s 3ms/step - loss: 4.8614 - val_loss: 5.5950\n",
      "Epoch 26/100\n",
      "13/13 [==============================] - 0s 3ms/step - loss: 4.8243 - val_loss: 5.1833\n",
      "Epoch 27/100\n",
      "13/13 [==============================] - 0s 3ms/step - loss: 4.7007 - val_loss: 5.3350\n",
      "Epoch 28/100\n",
      "13/13 [==============================] - 0s 3ms/step - loss: 4.6911 - val_loss: 5.3176\n",
      "Epoch 29/100\n",
      "13/13 [==============================] - 0s 3ms/step - loss: 4.7629 - val_loss: 5.4723\n",
      "Epoch 30/100\n",
      "13/13 [==============================] - 0s 3ms/step - loss: 4.6850 - val_loss: 5.4107\n",
      "Epoch 31/100\n",
      "13/13 [==============================] - 0s 3ms/step - loss: 4.8325 - val_loss: 5.5894\n"
     ]
    }
   ],
   "source": [
    "history = model.fit(\n",
    "    x= xtrain,\n",
    "    y = ytrain,\n",
    "    epochs =100,\n",
    "    validation_data = [xtest, ytest],\n",
    "    callbacks = [es]\n",
    ")"
   ]
  },
  {
   "cell_type": "code",
   "execution_count": 51,
   "metadata": {},
   "outputs": [],
   "source": [
    "import pandas as pd"
   ]
  },
  {
   "cell_type": "code",
   "execution_count": 52,
   "metadata": {},
   "outputs": [
    {
     "data": {
      "text/html": [
       "<div>\n",
       "<style scoped>\n",
       "    .dataframe tbody tr th:only-of-type {\n",
       "        vertical-align: middle;\n",
       "    }\n",
       "\n",
       "    .dataframe tbody tr th {\n",
       "        vertical-align: top;\n",
       "    }\n",
       "\n",
       "    .dataframe thead th {\n",
       "        text-align: right;\n",
       "    }\n",
       "</style>\n",
       "<table border=\"1\" class=\"dataframe\">\n",
       "  <thead>\n",
       "    <tr style=\"text-align: right;\">\n",
       "      <th></th>\n",
       "      <th>loss</th>\n",
       "      <th>val_loss</th>\n",
       "      <th>epoch</th>\n",
       "    </tr>\n",
       "  </thead>\n",
       "  <tbody>\n",
       "    <tr>\n",
       "      <th>0</th>\n",
       "      <td>86.361916</td>\n",
       "      <td>39.888241</td>\n",
       "      <td>0</td>\n",
       "    </tr>\n",
       "    <tr>\n",
       "      <th>1</th>\n",
       "      <td>29.266918</td>\n",
       "      <td>22.933243</td>\n",
       "      <td>1</td>\n",
       "    </tr>\n",
       "    <tr>\n",
       "      <th>2</th>\n",
       "      <td>13.829174</td>\n",
       "      <td>9.615682</td>\n",
       "      <td>2</td>\n",
       "    </tr>\n",
       "    <tr>\n",
       "      <th>3</th>\n",
       "      <td>8.786082</td>\n",
       "      <td>6.987969</td>\n",
       "      <td>3</td>\n",
       "    </tr>\n",
       "    <tr>\n",
       "      <th>4</th>\n",
       "      <td>6.238046</td>\n",
       "      <td>5.990156</td>\n",
       "      <td>4</td>\n",
       "    </tr>\n",
       "  </tbody>\n",
       "</table>\n",
       "</div>"
      ],
      "text/plain": [
       "        loss   val_loss  epoch\n",
       "0  86.361916  39.888241      0\n",
       "1  29.266918  22.933243      1\n",
       "2  13.829174   9.615682      2\n",
       "3   8.786082   6.987969      3\n",
       "4   6.238046   5.990156      4"
      ]
     },
     "execution_count": 52,
     "metadata": {},
     "output_type": "execute_result"
    }
   ],
   "source": [
    "df = pd.DataFrame(history.history)\n",
    "df['epoch'] = history.epoch\n",
    "df.head()"
   ]
  },
  {
   "cell_type": "code",
   "execution_count": 53,
   "metadata": {},
   "outputs": [],
   "source": [
    "import plotly.express as px\n",
    "import matplotlib.pyplot as plt"
   ]
  },
  {
   "cell_type": "code",
   "execution_count": 54,
   "metadata": {},
   "outputs": [],
   "source": [
    "def plot_loss(df):\n",
    "    plt.plot(df['loss'], label= 'training loss')\n",
    "    plt.plot(df['val_loss'], label= 'validation loss')\n",
    "    plt.ylim([0,10])\n",
    "    plt.ylabel('epoch')\n",
    "    plt.ylabel('ERROR (MAE)')\n",
    "    plt.legend()\n",
    "    plt.grid(True)\n",
    "\n",
    "def plot_acc(df):\n",
    "    plt.plot(df['accuracy'], label= 'training accuracy')\n",
    "    plt.plot(df['val_accuracy'], label= 'validation accuracy')\n",
    "    plt.ylim([0,10])\n",
    "    plt.ylabel('epoch')\n",
    "    plt.ylabel('ERROR (MAE)')\n",
    "    plt.legend()\n",
    "    plt.grid(True)"
   ]
  },
  {
   "cell_type": "code",
   "execution_count": 55,
   "metadata": {},
   "outputs": [
    {
     "data": {
      "image/png": "[encoded data removed]",
      "text/plain": [
       "<Figure size 432x288 with 1 Axes>"
      ]
     },
     "metadata": {
      "needs_background": "light"
     },
     "output_type": "display_data"
    }
   ],
   "source": [
    "plot_loss(df)\n",
    "plt.show()"
   ]
  },
  {
   "cell_type": "markdown",
   "metadata": {},
   "source": [
    "### save model"
   ]
  },
  {
   "cell_type": "code",
   "execution_count": 56,
   "metadata": {},
   "outputs": [
    {
     "name": "stdout",
     "output_type": "stream",
     "text": [
      "INFO:tensorflow:Assets written to: boston_house_pricing\\assets\n"
     ]
    }
   ],
   "source": [
    "model.save('boston_house_pricing')"
   ]
  },
  {
   "cell_type": "code",
   "execution_count": 57,
   "metadata": {},
   "outputs": [],
   "source": [
    "model.save('boston.h5', save_format='h5')"
   ]
  },
  {
   "cell_type": "markdown",
   "metadata": {},
   "source": [
    "### load model"
   ]
  },
  {
   "cell_type": "code",
   "execution_count": 58,
   "metadata": {},
   "outputs": [
    {
     "data": {
      "text/plain": [
       "<keras.engine.sequential.Sequential at 0x1c2e346e220>"
      ]
     },
     "execution_count": 58,
     "metadata": {},
     "output_type": "execute_result"
    }
   ],
   "source": [
    "tf.keras.models.load_model('boston_house_pricing')"
   ]
  },
  {
   "cell_type": "markdown",
   "metadata": {},
   "source": [
    "### prediction"
   ]
  },
  {
   "cell_type": "code",
   "execution_count": 60,
   "metadata": {},
   "outputs": [],
   "source": [
    "ypred = model.predict(xtest)"
   ]
  },
  {
   "cell_type": "code",
   "execution_count": 61,
   "metadata": {},
   "outputs": [
    {
     "data": {
      "text/plain": [
       "[<matplotlib.lines.Line2D at 0x1c2ec9f7b20>]"
      ]
     },
     "execution_count": 61,
     "metadata": {},
     "output_type": "execute_result"
    },
    {
     "data": {
      "image/png": "[encoded data removed]",
      "text/plain": [
       "<Figure size 432x288 with 1 Axes>"
      ]
     },
     "metadata": {
      "needs_background": "light"
     },
     "output_type": "display_data"
    }
   ],
   "source": [
    "plt.plot(ytest)"
   ]
  },
  {
   "cell_type": "code",
   "execution_count": null,
   "metadata": {},
   "outputs": [],
   "source": []
  }
 ],
 "metadata": {
  "interpreter": {
   "hash": "d6fae5423283988a1f203f784ae9cfad4c34cb6feea49a0d1f54c80e10af6504"
  },
  "kernelspec": {
   "display_name": "Python 3.9.7 64-bit",
   "language": "python",
   "name": "python3"
  },
  "language_info": {
   "codemirror_mode": {
    "name": "ipython",
    "version": 3
   },
   "file_extension": ".py",
   "mimetype": "text/x-python",
   "name": "python",
   "nbconvert_exporter": "python",
   "pygments_lexer": "ipython3",
   "version": "3.9.7"
  },
  "orig_nbformat": 4
 },
 "nbformat": 4,
 "nbformat_minor": 2
}
