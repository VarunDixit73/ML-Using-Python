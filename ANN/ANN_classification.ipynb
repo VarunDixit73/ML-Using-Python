{
 "cells": [
  {
   "cell_type": "code",
   "execution_count": 12,
   "metadata": {},
   "outputs": [],
   "source": [
    "import tensorflow as tf\n",
    "import pandas as pd\n",
    "from sklearn.metrics import classification_report, confusion_matrix\n",
    "from sklearn.model_selection import train_test_split\n",
    "from sklearn import metrics"
   ]
  },
  {
   "cell_type": "code",
   "execution_count": 21,
   "metadata": {},
   "outputs": [],
   "source": [
    "import plotly.express as px\n",
    "import matplotlib.pyplot as plt"
   ]
  },
  {
   "cell_type": "code",
   "execution_count": 2,
   "metadata": {},
   "outputs": [
    {
     "data": {
      "text/html": [
       "<div>\n",
       "<style scoped>\n",
       "    .dataframe tbody tr th:only-of-type {\n",
       "        vertical-align: middle;\n",
       "    }\n",
       "\n",
       "    .dataframe tbody tr th {\n",
       "        vertical-align: top;\n",
       "    }\n",
       "\n",
       "    .dataframe thead th {\n",
       "        text-align: right;\n",
       "    }\n",
       "</style>\n",
       "<table border=\"1\" class=\"dataframe\">\n",
       "  <thead>\n",
       "    <tr style=\"text-align: right;\">\n",
       "      <th></th>\n",
       "      <th>age</th>\n",
       "      <th>sex</th>\n",
       "      <th>cp</th>\n",
       "      <th>trestbps</th>\n",
       "      <th>chol</th>\n",
       "      <th>fbs</th>\n",
       "      <th>restecg</th>\n",
       "      <th>thalach</th>\n",
       "      <th>exang</th>\n",
       "      <th>oldpeak</th>\n",
       "      <th>slope</th>\n",
       "      <th>ca</th>\n",
       "      <th>thal</th>\n",
       "      <th>target</th>\n",
       "    </tr>\n",
       "  </thead>\n",
       "  <tbody>\n",
       "    <tr>\n",
       "      <th>0</th>\n",
       "      <td>63</td>\n",
       "      <td>1</td>\n",
       "      <td>3</td>\n",
       "      <td>145</td>\n",
       "      <td>233</td>\n",
       "      <td>1</td>\n",
       "      <td>0</td>\n",
       "      <td>150</td>\n",
       "      <td>0</td>\n",
       "      <td>2.3</td>\n",
       "      <td>0</td>\n",
       "      <td>0</td>\n",
       "      <td>1</td>\n",
       "      <td>1</td>\n",
       "    </tr>\n",
       "    <tr>\n",
       "      <th>1</th>\n",
       "      <td>37</td>\n",
       "      <td>1</td>\n",
       "      <td>2</td>\n",
       "      <td>130</td>\n",
       "      <td>250</td>\n",
       "      <td>0</td>\n",
       "      <td>1</td>\n",
       "      <td>187</td>\n",
       "      <td>0</td>\n",
       "      <td>3.5</td>\n",
       "      <td>0</td>\n",
       "      <td>0</td>\n",
       "      <td>2</td>\n",
       "      <td>1</td>\n",
       "    </tr>\n",
       "    <tr>\n",
       "      <th>2</th>\n",
       "      <td>41</td>\n",
       "      <td>0</td>\n",
       "      <td>1</td>\n",
       "      <td>130</td>\n",
       "      <td>204</td>\n",
       "      <td>0</td>\n",
       "      <td>0</td>\n",
       "      <td>172</td>\n",
       "      <td>0</td>\n",
       "      <td>1.4</td>\n",
       "      <td>2</td>\n",
       "      <td>0</td>\n",
       "      <td>2</td>\n",
       "      <td>1</td>\n",
       "    </tr>\n",
       "    <tr>\n",
       "      <th>3</th>\n",
       "      <td>56</td>\n",
       "      <td>1</td>\n",
       "      <td>1</td>\n",
       "      <td>120</td>\n",
       "      <td>236</td>\n",
       "      <td>0</td>\n",
       "      <td>1</td>\n",
       "      <td>178</td>\n",
       "      <td>0</td>\n",
       "      <td>0.8</td>\n",
       "      <td>2</td>\n",
       "      <td>0</td>\n",
       "      <td>2</td>\n",
       "      <td>1</td>\n",
       "    </tr>\n",
       "    <tr>\n",
       "      <th>4</th>\n",
       "      <td>57</td>\n",
       "      <td>0</td>\n",
       "      <td>0</td>\n",
       "      <td>120</td>\n",
       "      <td>354</td>\n",
       "      <td>0</td>\n",
       "      <td>1</td>\n",
       "      <td>163</td>\n",
       "      <td>1</td>\n",
       "      <td>0.6</td>\n",
       "      <td>2</td>\n",
       "      <td>0</td>\n",
       "      <td>2</td>\n",
       "      <td>1</td>\n",
       "    </tr>\n",
       "  </tbody>\n",
       "</table>\n",
       "</div>"
      ],
      "text/plain": [
       "   age  sex  cp  trestbps  chol  fbs  restecg  thalach  exang  oldpeak  slope  \\\n",
       "0   63    1   3       145   233    1        0      150      0      2.3      0   \n",
       "1   37    1   2       130   250    0        1      187      0      3.5      0   \n",
       "2   41    0   1       130   204    0        0      172      0      1.4      2   \n",
       "3   56    1   1       120   236    0        1      178      0      0.8      2   \n",
       "4   57    0   0       120   354    0        1      163      1      0.6      2   \n",
       "\n",
       "   ca  thal  target  \n",
       "0   0     1       1  \n",
       "1   0     2       1  \n",
       "2   0     2       1  \n",
       "3   0     2       1  \n",
       "4   0     2       1  "
      ]
     },
     "execution_count": 2,
     "metadata": {},
     "output_type": "execute_result"
    }
   ],
   "source": [
    "df = pd.read_csv('https://raw.githubusercontent.com/digipodium/Datasets/main/heart.csv')\n",
    "df.head()"
   ]
  },
  {
   "cell_type": "code",
   "execution_count": 23,
   "metadata": {},
   "outputs": [
    {
     "data": {
      "text/plain": [
       "1    165\n",
       "0    138\n",
       "Name: target, dtype: int64"
      ]
     },
     "execution_count": 23,
     "metadata": {},
     "output_type": "execute_result"
    }
   ],
   "source": [
    "df.target.value_counts()"
   ]
  },
  {
   "cell_type": "code",
   "execution_count": 24,
   "metadata": {},
   "outputs": [
    {
     "data": {
      "text/plain": [
       "(303, 13)"
      ]
     },
     "execution_count": 24,
     "metadata": {},
     "output_type": "execute_result"
    }
   ],
   "source": [
    "X= df.iloc[:,:-1]\n",
    "X.shape"
   ]
  },
  {
   "cell_type": "code",
   "execution_count": 25,
   "metadata": {},
   "outputs": [
    {
     "data": {
      "text/plain": [
       "(303,)"
      ]
     },
     "execution_count": 25,
     "metadata": {},
     "output_type": "execute_result"
    }
   ],
   "source": [
    "y = df['target']\n",
    "y.shape"
   ]
  },
  {
   "cell_type": "markdown",
   "metadata": {},
   "source": [
    "### NN Architechture"
   ]
  },
  {
   "cell_type": "code",
   "execution_count": 39,
   "metadata": {},
   "outputs": [
    {
     "name": "stdout",
     "output_type": "stream",
     "text": [
      "Model: \"sequential_9\"\n",
      "_________________________________________________________________\n",
      " Layer (type)                Output Shape              Param #   \n",
      "=================================================================\n",
      " normalization_10 (Normaliza  (None, 13)               27        \n",
      " tion)                                                           \n",
      "                                                                 \n",
      " dense_27 (Dense)            (None, 6)                 84        \n",
      "                                                                 \n",
      " dense_28 (Dense)            (None, 6)                 42        \n",
      "                                                                 \n",
      " dense_29 (Dense)            (None, 1)                 7         \n",
      "                                                                 \n",
      "=================================================================\n",
      "Total params: 160\n",
      "Trainable params: 133\n",
      "Non-trainable params: 27\n",
      "_________________________________________________________________\n"
     ]
    }
   ],
   "source": [
    "model = tf.keras.models.Sequential()\n",
    "norm = tf.keras.layers.Normalization()\n",
    "norm.adapt(X)\n",
    "model.add(norm)\n",
    "model.add(tf.keras.layers.Dense(units=6,activation='relu',input_shape=(13,)))\n",
    "model.add(tf.keras.layers.Dense(units=6,activation='relu'))\n",
    "model.add(tf.keras.layers.Dense(units=1,activation='sigmoid'))\n",
    "model.summary()\n",
    "\n",
    "es = tf.keras.callbacks.EarlyStopping(patience=10)\n",
    "\n",
    "model.compile(\n",
    "    optimizer = 'adam',\n",
    "    loss = tf.keras.losses.BinaryCrossentropy(),\n",
    "    metrics = ['accuracy'],\n",
    ")"
   ]
  },
  {
   "cell_type": "code",
   "execution_count": 45,
   "metadata": {},
   "outputs": [
    {
     "name": "stdout",
     "output_type": "stream",
     "text": [
      "Epoch 1/100\n",
      "31/31 [==============================] - 0s 4ms/step - loss: 0.3845 - accuracy: 0.8430 - val_loss: 1.0428 - val_accuracy: 0.4426\n",
      "Epoch 2/100\n",
      "31/31 [==============================] - 0s 3ms/step - loss: 0.3749 - accuracy: 0.8595 - val_loss: 1.0434 - val_accuracy: 0.4426\n",
      "Epoch 3/100\n",
      "31/31 [==============================] - 0s 3ms/step - loss: 0.3666 - accuracy: 0.8595 - val_loss: 1.0402 - val_accuracy: 0.4426\n",
      "Epoch 4/100\n",
      "31/31 [==============================] - 0s 3ms/step - loss: 0.3569 - accuracy: 0.8678 - val_loss: 1.0195 - val_accuracy: 0.4754\n",
      "Epoch 5/100\n",
      "31/31 [==============================] - 0s 6ms/step - loss: 0.3489 - accuracy: 0.8719 - val_loss: 1.0068 - val_accuracy: 0.4754\n",
      "Epoch 6/100\n",
      "31/31 [==============================] - 0s 5ms/step - loss: 0.3406 - accuracy: 0.8678 - val_loss: 0.9908 - val_accuracy: 0.4918\n",
      "Epoch 7/100\n",
      "31/31 [==============================] - 0s 5ms/step - loss: 0.3330 - accuracy: 0.8719 - val_loss: 0.9721 - val_accuracy: 0.5082\n",
      "Epoch 8/100\n",
      "31/31 [==============================] - 0s 9ms/step - loss: 0.3269 - accuracy: 0.8760 - val_loss: 0.9662 - val_accuracy: 0.5246\n",
      "Epoch 9/100\n",
      "31/31 [==============================] - 0s 6ms/step - loss: 0.3214 - accuracy: 0.8802 - val_loss: 0.9585 - val_accuracy: 0.5574\n",
      "Epoch 10/100\n",
      "31/31 [==============================] - 0s 7ms/step - loss: 0.3165 - accuracy: 0.8802 - val_loss: 0.9441 - val_accuracy: 0.5574\n",
      "Epoch 11/100\n",
      "31/31 [==============================] - 0s 5ms/step - loss: 0.3115 - accuracy: 0.8802 - val_loss: 0.9357 - val_accuracy: 0.5574\n",
      "Epoch 12/100\n",
      "31/31 [==============================] - 0s 5ms/step - loss: 0.3073 - accuracy: 0.8843 - val_loss: 0.9448 - val_accuracy: 0.5574\n",
      "Epoch 13/100\n",
      "31/31 [==============================] - 0s 4ms/step - loss: 0.3034 - accuracy: 0.8802 - val_loss: 0.9342 - val_accuracy: 0.5574\n",
      "Epoch 14/100\n",
      "31/31 [==============================] - 0s 3ms/step - loss: 0.2998 - accuracy: 0.8884 - val_loss: 0.9296 - val_accuracy: 0.5738\n",
      "Epoch 15/100\n",
      "31/31 [==============================] - 0s 3ms/step - loss: 0.2958 - accuracy: 0.8843 - val_loss: 0.9399 - val_accuracy: 0.5574\n",
      "Epoch 16/100\n",
      "31/31 [==============================] - 0s 3ms/step - loss: 0.2937 - accuracy: 0.8843 - val_loss: 0.9306 - val_accuracy: 0.5574\n",
      "Epoch 17/100\n",
      "31/31 [==============================] - 0s 4ms/step - loss: 0.2906 - accuracy: 0.8843 - val_loss: 0.9344 - val_accuracy: 0.5574\n",
      "Epoch 18/100\n",
      "31/31 [==============================] - 0s 7ms/step - loss: 0.2876 - accuracy: 0.8843 - val_loss: 0.9209 - val_accuracy: 0.5738\n",
      "Epoch 19/100\n",
      "31/31 [==============================] - 0s 5ms/step - loss: 0.2859 - accuracy: 0.8843 - val_loss: 0.9263 - val_accuracy: 0.5574\n",
      "Epoch 20/100\n",
      "31/31 [==============================] - 0s 4ms/step - loss: 0.2838 - accuracy: 0.8843 - val_loss: 0.9174 - val_accuracy: 0.5902\n",
      "Epoch 21/100\n",
      "31/31 [==============================] - 0s 4ms/step - loss: 0.2814 - accuracy: 0.8967 - val_loss: 0.9159 - val_accuracy: 0.5902\n",
      "Epoch 22/100\n",
      "31/31 [==============================] - 0s 3ms/step - loss: 0.2802 - accuracy: 0.8967 - val_loss: 0.9193 - val_accuracy: 0.5738\n",
      "Epoch 23/100\n",
      "31/31 [==============================] - 0s 4ms/step - loss: 0.2784 - accuracy: 0.8967 - val_loss: 0.9284 - val_accuracy: 0.5574\n",
      "Epoch 24/100\n",
      "31/31 [==============================] - 0s 4ms/step - loss: 0.2781 - accuracy: 0.9008 - val_loss: 0.9143 - val_accuracy: 0.5902\n",
      "Epoch 25/100\n",
      "31/31 [==============================] - 0s 4ms/step - loss: 0.2753 - accuracy: 0.9008 - val_loss: 0.9263 - val_accuracy: 0.5902\n",
      "Epoch 26/100\n",
      "31/31 [==============================] - 0s 3ms/step - loss: 0.2750 - accuracy: 0.9008 - val_loss: 0.9257 - val_accuracy: 0.6066\n",
      "Epoch 27/100\n",
      "31/31 [==============================] - 0s 4ms/step - loss: 0.2730 - accuracy: 0.9008 - val_loss: 0.9107 - val_accuracy: 0.6066\n",
      "Epoch 28/100\n",
      "31/31 [==============================] - 0s 4ms/step - loss: 0.2725 - accuracy: 0.9050 - val_loss: 0.9114 - val_accuracy: 0.6066\n",
      "Epoch 29/100\n",
      "31/31 [==============================] - 0s 4ms/step - loss: 0.2702 - accuracy: 0.8967 - val_loss: 0.9041 - val_accuracy: 0.6066\n",
      "Epoch 30/100\n",
      "31/31 [==============================] - 0s 4ms/step - loss: 0.2684 - accuracy: 0.9050 - val_loss: 0.9105 - val_accuracy: 0.6066\n",
      "Epoch 31/100\n",
      "31/31 [==============================] - 0s 3ms/step - loss: 0.2672 - accuracy: 0.9008 - val_loss: 0.9084 - val_accuracy: 0.6393\n",
      "Epoch 32/100\n",
      "31/31 [==============================] - 0s 4ms/step - loss: 0.2659 - accuracy: 0.9091 - val_loss: 0.9138 - val_accuracy: 0.6393\n",
      "Epoch 33/100\n",
      "31/31 [==============================] - 0s 3ms/step - loss: 0.2639 - accuracy: 0.9091 - val_loss: 0.8871 - val_accuracy: 0.6393\n",
      "Epoch 34/100\n",
      "31/31 [==============================] - 0s 2ms/step - loss: 0.2634 - accuracy: 0.9091 - val_loss: 0.9064 - val_accuracy: 0.6393\n",
      "Epoch 35/100\n",
      "31/31 [==============================] - 0s 3ms/step - loss: 0.2619 - accuracy: 0.9091 - val_loss: 0.8836 - val_accuracy: 0.6393\n",
      "Epoch 36/100\n",
      "31/31 [==============================] - 0s 3ms/step - loss: 0.2605 - accuracy: 0.9091 - val_loss: 0.8943 - val_accuracy: 0.6393\n",
      "Epoch 37/100\n",
      "31/31 [==============================] - 0s 3ms/step - loss: 0.2586 - accuracy: 0.9091 - val_loss: 0.8969 - val_accuracy: 0.6393\n",
      "Epoch 38/100\n",
      "31/31 [==============================] - 0s 3ms/step - loss: 0.2574 - accuracy: 0.9050 - val_loss: 0.8941 - val_accuracy: 0.6393\n",
      "Epoch 39/100\n",
      "31/31 [==============================] - 0s 3ms/step - loss: 0.2560 - accuracy: 0.9050 - val_loss: 0.8919 - val_accuracy: 0.6557\n",
      "Epoch 40/100\n",
      "31/31 [==============================] - 0s 3ms/step - loss: 0.2548 - accuracy: 0.9050 - val_loss: 0.8942 - val_accuracy: 0.6557\n",
      "Epoch 41/100\n",
      "31/31 [==============================] - 0s 3ms/step - loss: 0.2536 - accuracy: 0.9050 - val_loss: 0.8971 - val_accuracy: 0.6557\n",
      "Epoch 42/100\n",
      "31/31 [==============================] - 0s 5ms/step - loss: 0.2519 - accuracy: 0.9050 - val_loss: 0.8929 - val_accuracy: 0.6557\n",
      "Epoch 43/100\n",
      "31/31 [==============================] - 0s 7ms/step - loss: 0.2506 - accuracy: 0.9091 - val_loss: 0.8943 - val_accuracy: 0.6557\n",
      "Epoch 44/100\n",
      "31/31 [==============================] - 0s 6ms/step - loss: 0.2494 - accuracy: 0.9091 - val_loss: 0.8978 - val_accuracy: 0.6557\n",
      "Epoch 45/100\n",
      "31/31 [==============================] - 0s 4ms/step - loss: 0.2485 - accuracy: 0.9091 - val_loss: 0.8913 - val_accuracy: 0.6557\n"
     ]
    }
   ],
   "source": [
    "history = model.fit(x=X, y=y, batch_size=8, epochs=100, callbacks=[es],validation_split=.2, verbose=True)"
   ]
  },
  {
   "cell_type": "code",
   "execution_count": 41,
   "metadata": {},
   "outputs": [],
   "source": [
    "df = pd.DataFrame(history.history)\n",
    "df['epoch'] = history.epoch"
   ]
  },
  {
   "cell_type": "code",
   "execution_count": 42,
   "metadata": {},
   "outputs": [
    {
     "data": {
      "text/plain": [
       "<AxesSubplot:>"
      ]
     },
     "execution_count": 42,
     "metadata": {},
     "output_type": "execute_result"
    },
    {
     "data": {
      "image/png": "[encoded data removed]",
      "text/plain": [
       "<Figure size 432x288 with 1 Axes>"
      ]
     },
     "metadata": {
      "needs_background": "light"
     },
     "output_type": "display_data"
    }
   ],
   "source": [
    "df[['loss','val_loss']].plot()"
   ]
  },
  {
   "cell_type": "code",
   "execution_count": 43,
   "metadata": {},
   "outputs": [
    {
     "data": {
      "text/plain": [
       "<AxesSubplot:>"
      ]
     },
     "execution_count": 43,
     "metadata": {},
     "output_type": "execute_result"
    },
    {
     "data": {
      "image/png": "[encoded data removed]",
      "text/plain": [
       "<Figure size 432x288 with 1 Axes>"
      ]
     },
     "metadata": {
      "needs_background": "light"
     },
     "output_type": "display_data"
    }
   ],
   "source": [
    "df[['accuracy','val_accuracy']].plot()"
   ]
  },
  {
   "cell_type": "code",
   "execution_count": 44,
   "metadata": {},
   "outputs": [
    {
     "name": "stdout",
     "output_type": "stream",
     "text": [
      "INFO:tensorflow:Assets written to: model_bekar_h\\assets\n"
     ]
    }
   ],
   "source": [
    "model.save('model_bekar_h')"
   ]
  },
  {
   "cell_type": "code",
   "execution_count": null,
   "metadata": {},
   "outputs": [],
   "source": []
  }
 ],
 "metadata": {
  "interpreter": {
   "hash": "d6fae5423283988a1f203f784ae9cfad4c34cb6feea49a0d1f54c80e10af6504"
  },
  "kernelspec": {
   "display_name": "Python 3.9.7 64-bit",
   "language": "python",
   "name": "python3"
  },
  "language_info": {
   "codemirror_mode": {
    "name": "ipython",
    "version": 3
   },
   "file_extension": ".py",
   "mimetype": "text/x-python",
   "name": "python",
   "nbconvert_exporter": "python",
   "pygments_lexer": "ipython3",
   "version": "3.9.7"
  },
  "orig_nbformat": 4
 },
 "nbformat": 4,
 "nbformat_minor": 2
}
