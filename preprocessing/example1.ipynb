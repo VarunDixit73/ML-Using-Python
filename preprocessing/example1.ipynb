{
 "cells": [
  {
   "cell_type": "markdown",
   "metadata": {},
   "source": []
  },
  {
   "cell_type": "code",
   "execution_count": 57,
   "metadata": {},
   "outputs": [],
   "source": [
    "import pandas as pd"
   ]
  },
  {
   "cell_type": "code",
   "execution_count": 58,
   "metadata": {},
   "outputs": [],
   "source": [
    "df = pd.read_csv('sample.csv')"
   ]
  },
  {
   "cell_type": "code",
   "execution_count": 59,
   "metadata": {},
   "outputs": [
    {
     "data": {
      "text/html": [
       "<div>\n",
       "<style scoped>\n",
       "    .dataframe tbody tr th:only-of-type {\n",
       "        vertical-align: middle;\n",
       "    }\n",
       "\n",
       "    .dataframe tbody tr th {\n",
       "        vertical-align: top;\n",
       "    }\n",
       "\n",
       "    .dataframe thead th {\n",
       "        text-align: right;\n",
       "    }\n",
       "</style>\n",
       "<table border=\"1\" class=\"dataframe\">\n",
       "  <thead>\n",
       "    <tr style=\"text-align: right;\">\n",
       "      <th></th>\n",
       "      <th>Sno</th>\n",
       "      <th>Name</th>\n",
       "      <th>Age</th>\n",
       "      <th>Salary</th>\n",
       "      <th>Designation</th>\n",
       "      <th>Mobile</th>\n",
       "    </tr>\n",
       "  </thead>\n",
       "  <tbody>\n",
       "    <tr>\n",
       "      <th>0</th>\n",
       "      <td>1</td>\n",
       "      <td>Shabeeh Abass</td>\n",
       "      <td>20.0</td>\n",
       "      <td>$20,000</td>\n",
       "      <td>manager</td>\n",
       "      <td>9956432321</td>\n",
       "    </tr>\n",
       "    <tr>\n",
       "      <th>1</th>\n",
       "      <td>2</td>\n",
       "      <td>anjani</td>\n",
       "      <td>21.0</td>\n",
       "      <td>$30,000</td>\n",
       "      <td>software engineer</td>\n",
       "      <td>9936344113</td>\n",
       "    </tr>\n",
       "    <tr>\n",
       "      <th>2</th>\n",
       "      <td>3</td>\n",
       "      <td>deepak</td>\n",
       "      <td>50.0</td>\n",
       "      <td>$60,000</td>\n",
       "      <td>software engineer</td>\n",
       "      <td>9936344113</td>\n",
       "    </tr>\n",
       "    <tr>\n",
       "      <th>3</th>\n",
       "      <td>4</td>\n",
       "      <td>mayank</td>\n",
       "      <td>30.0</td>\n",
       "      <td>$70,000</td>\n",
       "      <td>assistant manger</td>\n",
       "      <td>8976543569</td>\n",
       "    </tr>\n",
       "    <tr>\n",
       "      <th>4</th>\n",
       "      <td>5</td>\n",
       "      <td>Aishwarya singh</td>\n",
       "      <td>NaN</td>\n",
       "      <td>$80,000</td>\n",
       "      <td>manager</td>\n",
       "      <td>8876543292</td>\n",
       "    </tr>\n",
       "    <tr>\n",
       "      <th>5</th>\n",
       "      <td>6</td>\n",
       "      <td>ayush singh</td>\n",
       "      <td>30.0</td>\n",
       "      <td>$90,000</td>\n",
       "      <td>region manger</td>\n",
       "      <td>9987654328</td>\n",
       "    </tr>\n",
       "    <tr>\n",
       "      <th>6</th>\n",
       "      <td>7</td>\n",
       "      <td>neetu</td>\n",
       "      <td>NaN</td>\n",
       "      <td>$70,000</td>\n",
       "      <td>assistant manger</td>\n",
       "      <td>8897535637</td>\n",
       "    </tr>\n",
       "    <tr>\n",
       "      <th>7</th>\n",
       "      <td>8</td>\n",
       "      <td>prashant</td>\n",
       "      <td>30.0</td>\n",
       "      <td>$80,000</td>\n",
       "      <td>developer</td>\n",
       "      <td>9977553573</td>\n",
       "    </tr>\n",
       "    <tr>\n",
       "      <th>8</th>\n",
       "      <td>9</td>\n",
       "      <td>aditya singh</td>\n",
       "      <td>30.0</td>\n",
       "      <td>$56,000</td>\n",
       "      <td>developer</td>\n",
       "      <td>9927363636</td>\n",
       "    </tr>\n",
       "  </tbody>\n",
       "</table>\n",
       "</div>"
      ],
      "text/plain": [
       "   Sno             Name   Age   Salary        Designation      Mobile\n",
       "0    1    Shabeeh Abass  20.0  $20,000            manager  9956432321\n",
       "1    2           anjani  21.0  $30,000  software engineer  9936344113\n",
       "2    3           deepak  50.0  $60,000  software engineer  9936344113\n",
       "3    4           mayank  30.0  $70,000   assistant manger  8976543569\n",
       "4    5  Aishwarya singh   NaN  $80,000            manager  8876543292\n",
       "5    6      ayush singh  30.0  $90,000      region manger  9987654328\n",
       "6    7            neetu   NaN  $70,000   assistant manger  8897535637\n",
       "7    8         prashant  30.0  $80,000          developer  9977553573\n",
       "8    9     aditya singh  30.0  $56,000          developer  9927363636"
      ]
     },
     "execution_count": 59,
     "metadata": {},
     "output_type": "execute_result"
    }
   ],
   "source": [
    "df.head(9)\n"
   ]
  },
  {
   "cell_type": "code",
   "execution_count": 60,
   "metadata": {},
   "outputs": [
    {
     "data": {
      "text/html": [
       "<div>\n",
       "<style scoped>\n",
       "    .dataframe tbody tr th:only-of-type {\n",
       "        vertical-align: middle;\n",
       "    }\n",
       "\n",
       "    .dataframe tbody tr th {\n",
       "        vertical-align: top;\n",
       "    }\n",
       "\n",
       "    .dataframe thead th {\n",
       "        text-align: right;\n",
       "    }\n",
       "</style>\n",
       "<table border=\"1\" class=\"dataframe\">\n",
       "  <thead>\n",
       "    <tr style=\"text-align: right;\">\n",
       "      <th></th>\n",
       "      <th>Sno</th>\n",
       "      <th>Name</th>\n",
       "      <th>Age</th>\n",
       "      <th>Salary</th>\n",
       "      <th>Designation</th>\n",
       "      <th>Mobile</th>\n",
       "    </tr>\n",
       "  </thead>\n",
       "  <tbody>\n",
       "    <tr>\n",
       "      <th>0</th>\n",
       "      <td>False</td>\n",
       "      <td>False</td>\n",
       "      <td>False</td>\n",
       "      <td>False</td>\n",
       "      <td>False</td>\n",
       "      <td>False</td>\n",
       "    </tr>\n",
       "    <tr>\n",
       "      <th>1</th>\n",
       "      <td>False</td>\n",
       "      <td>False</td>\n",
       "      <td>False</td>\n",
       "      <td>False</td>\n",
       "      <td>False</td>\n",
       "      <td>False</td>\n",
       "    </tr>\n",
       "    <tr>\n",
       "      <th>2</th>\n",
       "      <td>False</td>\n",
       "      <td>False</td>\n",
       "      <td>False</td>\n",
       "      <td>False</td>\n",
       "      <td>False</td>\n",
       "      <td>False</td>\n",
       "    </tr>\n",
       "    <tr>\n",
       "      <th>3</th>\n",
       "      <td>False</td>\n",
       "      <td>False</td>\n",
       "      <td>False</td>\n",
       "      <td>False</td>\n",
       "      <td>False</td>\n",
       "      <td>False</td>\n",
       "    </tr>\n",
       "    <tr>\n",
       "      <th>4</th>\n",
       "      <td>False</td>\n",
       "      <td>False</td>\n",
       "      <td>True</td>\n",
       "      <td>False</td>\n",
       "      <td>False</td>\n",
       "      <td>False</td>\n",
       "    </tr>\n",
       "    <tr>\n",
       "      <th>5</th>\n",
       "      <td>False</td>\n",
       "      <td>False</td>\n",
       "      <td>False</td>\n",
       "      <td>False</td>\n",
       "      <td>False</td>\n",
       "      <td>False</td>\n",
       "    </tr>\n",
       "    <tr>\n",
       "      <th>6</th>\n",
       "      <td>False</td>\n",
       "      <td>False</td>\n",
       "      <td>True</td>\n",
       "      <td>False</td>\n",
       "      <td>False</td>\n",
       "      <td>False</td>\n",
       "    </tr>\n",
       "    <tr>\n",
       "      <th>7</th>\n",
       "      <td>False</td>\n",
       "      <td>False</td>\n",
       "      <td>False</td>\n",
       "      <td>False</td>\n",
       "      <td>False</td>\n",
       "      <td>False</td>\n",
       "    </tr>\n",
       "    <tr>\n",
       "      <th>8</th>\n",
       "      <td>False</td>\n",
       "      <td>False</td>\n",
       "      <td>False</td>\n",
       "      <td>False</td>\n",
       "      <td>False</td>\n",
       "      <td>False</td>\n",
       "    </tr>\n",
       "    <tr>\n",
       "      <th>9</th>\n",
       "      <td>False</td>\n",
       "      <td>False</td>\n",
       "      <td>False</td>\n",
       "      <td>False</td>\n",
       "      <td>False</td>\n",
       "      <td>False</td>\n",
       "    </tr>\n",
       "  </tbody>\n",
       "</table>\n",
       "</div>"
      ],
      "text/plain": [
       "     Sno   Name    Age  Salary  Designation  Mobile\n",
       "0  False  False  False   False        False   False\n",
       "1  False  False  False   False        False   False\n",
       "2  False  False  False   False        False   False\n",
       "3  False  False  False   False        False   False\n",
       "4  False  False   True   False        False   False\n",
       "5  False  False  False   False        False   False\n",
       "6  False  False   True   False        False   False\n",
       "7  False  False  False   False        False   False\n",
       "8  False  False  False   False        False   False\n",
       "9  False  False  False   False        False   False"
      ]
     },
     "execution_count": 60,
     "metadata": {},
     "output_type": "execute_result"
    }
   ],
   "source": [
    "df.isnull()"
   ]
  },
  {
   "cell_type": "code",
   "execution_count": 61,
   "metadata": {},
   "outputs": [
    {
     "data": {
      "text/plain": [
       "Sno            0\n",
       "Name           0\n",
       "Age            2\n",
       "Salary         0\n",
       "Designation    0\n",
       "Mobile         0\n",
       "dtype: int64"
      ]
     },
     "execution_count": 61,
     "metadata": {},
     "output_type": "execute_result"
    }
   ],
   "source": [
    "df.isnull().sum()"
   ]
  },
  {
   "cell_type": "code",
   "execution_count": 62,
   "metadata": {},
   "outputs": [
    {
     "data": {
      "text/plain": [
       "Shabeeh Abass      1\n",
       "anjani             1\n",
       "deepak             1\n",
       "mayank             1\n",
       "Aishwarya singh    1\n",
       "ayush singh        1\n",
       "neetu              1\n",
       "prashant           1\n",
       "aditya singh       1\n",
       "ayushi             1\n",
       "Name: Name, dtype: int64"
      ]
     },
     "execution_count": 62,
     "metadata": {},
     "output_type": "execute_result"
    }
   ],
   "source": [
    "df[\"Name\"].value_counts()"
   ]
  },
  {
   "cell_type": "code",
   "execution_count": 63,
   "metadata": {},
   "outputs": [
    {
     "data": {
      "text/plain": [
       "<bound method DataFrame.info of    Sno             Name   Age   Salary        Designation      Mobile\n",
       "0    1    Shabeeh Abass  20.0  $20,000            manager  9956432321\n",
       "1    2           anjani  21.0  $30,000  software engineer  9936344113\n",
       "2    3           deepak  50.0  $60,000  software engineer  9936344113\n",
       "3    4           mayank  30.0  $70,000   assistant manger  8976543569\n",
       "4    5  Aishwarya singh   NaN  $80,000            manager  8876543292\n",
       "5    6      ayush singh  30.0  $90,000      region manger  9987654328\n",
       "6    7            neetu   NaN  $70,000   assistant manger  8897535637\n",
       "7    8         prashant  30.0  $80,000          developer  9977553573\n",
       "8    9     aditya singh  30.0  $56,000          developer  9927363636\n",
       "9   10           ayushi  30.0  $50,000          developer  9956453324>"
      ]
     },
     "execution_count": 63,
     "metadata": {},
     "output_type": "execute_result"
    }
   ],
   "source": [
    "df.info"
   ]
  },
  {
   "cell_type": "code",
   "execution_count": 64,
   "metadata": {},
   "outputs": [
    {
     "data": {
      "text/html": [
       "<div>\n",
       "<style scoped>\n",
       "    .dataframe tbody tr th:only-of-type {\n",
       "        vertical-align: middle;\n",
       "    }\n",
       "\n",
       "    .dataframe tbody tr th {\n",
       "        vertical-align: top;\n",
       "    }\n",
       "\n",
       "    .dataframe thead th {\n",
       "        text-align: right;\n",
       "    }\n",
       "</style>\n",
       "<table border=\"1\" class=\"dataframe\">\n",
       "  <thead>\n",
       "    <tr style=\"text-align: right;\">\n",
       "      <th></th>\n",
       "      <th>Sno</th>\n",
       "      <th>Name</th>\n",
       "      <th>Age</th>\n",
       "      <th>Salary</th>\n",
       "      <th>Designation</th>\n",
       "      <th>Mobile</th>\n",
       "    </tr>\n",
       "  </thead>\n",
       "  <tbody>\n",
       "    <tr>\n",
       "      <th>0</th>\n",
       "      <td>1</td>\n",
       "      <td>Shabeeh Abass</td>\n",
       "      <td>20.0</td>\n",
       "      <td>$20,000</td>\n",
       "      <td>manager</td>\n",
       "      <td>9956432321</td>\n",
       "    </tr>\n",
       "    <tr>\n",
       "      <th>1</th>\n",
       "      <td>2</td>\n",
       "      <td>anjani</td>\n",
       "      <td>21.0</td>\n",
       "      <td>$30,000</td>\n",
       "      <td>software engineer</td>\n",
       "      <td>9936344113</td>\n",
       "    </tr>\n",
       "    <tr>\n",
       "      <th>2</th>\n",
       "      <td>3</td>\n",
       "      <td>deepak</td>\n",
       "      <td>50.0</td>\n",
       "      <td>$60,000</td>\n",
       "      <td>software engineer</td>\n",
       "      <td>9936344113</td>\n",
       "    </tr>\n",
       "    <tr>\n",
       "      <th>3</th>\n",
       "      <td>4</td>\n",
       "      <td>mayank</td>\n",
       "      <td>30.0</td>\n",
       "      <td>$70,000</td>\n",
       "      <td>assistant manger</td>\n",
       "      <td>8976543569</td>\n",
       "    </tr>\n",
       "    <tr>\n",
       "      <th>4</th>\n",
       "      <td>5</td>\n",
       "      <td>Aishwarya singh</td>\n",
       "      <td>NaN</td>\n",
       "      <td>$80,000</td>\n",
       "      <td>manager</td>\n",
       "      <td>8876543292</td>\n",
       "    </tr>\n",
       "    <tr>\n",
       "      <th>5</th>\n",
       "      <td>6</td>\n",
       "      <td>ayush singh</td>\n",
       "      <td>30.0</td>\n",
       "      <td>$90,000</td>\n",
       "      <td>region manger</td>\n",
       "      <td>9987654328</td>\n",
       "    </tr>\n",
       "    <tr>\n",
       "      <th>6</th>\n",
       "      <td>7</td>\n",
       "      <td>neetu</td>\n",
       "      <td>NaN</td>\n",
       "      <td>$70,000</td>\n",
       "      <td>assistant manger</td>\n",
       "      <td>8897535637</td>\n",
       "    </tr>\n",
       "    <tr>\n",
       "      <th>7</th>\n",
       "      <td>8</td>\n",
       "      <td>prashant</td>\n",
       "      <td>30.0</td>\n",
       "      <td>$80,000</td>\n",
       "      <td>developer</td>\n",
       "      <td>9977553573</td>\n",
       "    </tr>\n",
       "    <tr>\n",
       "      <th>8</th>\n",
       "      <td>9</td>\n",
       "      <td>aditya singh</td>\n",
       "      <td>30.0</td>\n",
       "      <td>$56,000</td>\n",
       "      <td>developer</td>\n",
       "      <td>9927363636</td>\n",
       "    </tr>\n",
       "    <tr>\n",
       "      <th>9</th>\n",
       "      <td>10</td>\n",
       "      <td>ayushi</td>\n",
       "      <td>30.0</td>\n",
       "      <td>$50,000</td>\n",
       "      <td>developer</td>\n",
       "      <td>9956453324</td>\n",
       "    </tr>\n",
       "  </tbody>\n",
       "</table>\n",
       "</div>"
      ],
      "text/plain": [
       "   Sno             Name   Age   Salary        Designation      Mobile\n",
       "0    1    Shabeeh Abass  20.0  $20,000            manager  9956432321\n",
       "1    2           anjani  21.0  $30,000  software engineer  9936344113\n",
       "2    3           deepak  50.0  $60,000  software engineer  9936344113\n",
       "3    4           mayank  30.0  $70,000   assistant manger  8976543569\n",
       "4    5  Aishwarya singh   NaN  $80,000            manager  8876543292\n",
       "5    6      ayush singh  30.0  $90,000      region manger  9987654328\n",
       "6    7            neetu   NaN  $70,000   assistant manger  8897535637\n",
       "7    8         prashant  30.0  $80,000          developer  9977553573\n",
       "8    9     aditya singh  30.0  $56,000          developer  9927363636\n",
       "9   10           ayushi  30.0  $50,000          developer  9956453324"
      ]
     },
     "execution_count": 64,
     "metadata": {},
     "output_type": "execute_result"
    }
   ],
   "source": [
    "df"
   ]
  },
  {
   "cell_type": "code",
   "execution_count": 65,
   "metadata": {},
   "outputs": [],
   "source": [
    "def Salary_clean(salary):\n",
    "    if isinstance(salary,str):\n",
    "        salary= salary.strip()\n",
    "        if '$'in salary:\n",
    "            salary=salary.replace('$','')\n",
    "        if ',' in salary:\n",
    "            salary=salary.replace(',','')\n",
    "        return int (salary)\n",
    "    return salary"
   ]
  },
  {
   "cell_type": "code",
   "execution_count": 66,
   "metadata": {},
   "outputs": [
    {
     "data": {
      "text/plain": [
       "0    20000\n",
       "1    30000\n",
       "2    60000\n",
       "3    70000\n",
       "4    80000\n",
       "5    90000\n",
       "6    70000\n",
       "7    80000\n",
       "8    56000\n",
       "9    50000\n",
       "Name: Salary, dtype: int64"
      ]
     },
     "execution_count": 66,
     "metadata": {},
     "output_type": "execute_result"
    }
   ],
   "source": [
    "df['Salary'].apply(Salary_clean)"
   ]
  },
  {
   "cell_type": "code",
   "execution_count": 67,
   "metadata": {},
   "outputs": [
    {
     "data": {
      "text/plain": [
       "0    20000\n",
       "1    30000\n",
       "2    60000\n",
       "3    70000\n",
       "4    80000\n",
       "5    90000\n",
       "6    70000\n",
       "7    80000\n",
       "8    56000\n",
       "9    50000\n",
       "Name: Salary, dtype: int64"
      ]
     },
     "execution_count": 67,
     "metadata": {},
     "output_type": "execute_result"
    }
   ],
   "source": [
    "# test run\n",
    "df['Salary'].apply(Salary_clean)"
   ]
  },
  {
   "cell_type": "code",
   "execution_count": 68,
   "metadata": {},
   "outputs": [
    {
     "data": {
      "text/html": [
       "<div>\n",
       "<style scoped>\n",
       "    .dataframe tbody tr th:only-of-type {\n",
       "        vertical-align: middle;\n",
       "    }\n",
       "\n",
       "    .dataframe tbody tr th {\n",
       "        vertical-align: top;\n",
       "    }\n",
       "\n",
       "    .dataframe thead th {\n",
       "        text-align: right;\n",
       "    }\n",
       "</style>\n",
       "<table border=\"1\" class=\"dataframe\">\n",
       "  <thead>\n",
       "    <tr style=\"text-align: right;\">\n",
       "      <th></th>\n",
       "      <th>Sno</th>\n",
       "      <th>Name</th>\n",
       "      <th>Age</th>\n",
       "      <th>Salary</th>\n",
       "      <th>Designation</th>\n",
       "      <th>Mobile</th>\n",
       "    </tr>\n",
       "  </thead>\n",
       "  <tbody>\n",
       "    <tr>\n",
       "      <th>0</th>\n",
       "      <td>1</td>\n",
       "      <td>Shabeeh Abass</td>\n",
       "      <td>20.0</td>\n",
       "      <td>20000</td>\n",
       "      <td>manager</td>\n",
       "      <td>9956432321</td>\n",
       "    </tr>\n",
       "    <tr>\n",
       "      <th>1</th>\n",
       "      <td>2</td>\n",
       "      <td>anjani</td>\n",
       "      <td>21.0</td>\n",
       "      <td>30000</td>\n",
       "      <td>software engineer</td>\n",
       "      <td>9936344113</td>\n",
       "    </tr>\n",
       "    <tr>\n",
       "      <th>2</th>\n",
       "      <td>3</td>\n",
       "      <td>deepak</td>\n",
       "      <td>50.0</td>\n",
       "      <td>60000</td>\n",
       "      <td>software engineer</td>\n",
       "      <td>9936344113</td>\n",
       "    </tr>\n",
       "    <tr>\n",
       "      <th>3</th>\n",
       "      <td>4</td>\n",
       "      <td>mayank</td>\n",
       "      <td>30.0</td>\n",
       "      <td>70000</td>\n",
       "      <td>assistant manger</td>\n",
       "      <td>8976543569</td>\n",
       "    </tr>\n",
       "    <tr>\n",
       "      <th>4</th>\n",
       "      <td>5</td>\n",
       "      <td>Aishwarya singh</td>\n",
       "      <td>NaN</td>\n",
       "      <td>80000</td>\n",
       "      <td>manager</td>\n",
       "      <td>8876543292</td>\n",
       "    </tr>\n",
       "    <tr>\n",
       "      <th>5</th>\n",
       "      <td>6</td>\n",
       "      <td>ayush singh</td>\n",
       "      <td>30.0</td>\n",
       "      <td>90000</td>\n",
       "      <td>region manger</td>\n",
       "      <td>9987654328</td>\n",
       "    </tr>\n",
       "    <tr>\n",
       "      <th>6</th>\n",
       "      <td>7</td>\n",
       "      <td>neetu</td>\n",
       "      <td>NaN</td>\n",
       "      <td>70000</td>\n",
       "      <td>assistant manger</td>\n",
       "      <td>8897535637</td>\n",
       "    </tr>\n",
       "    <tr>\n",
       "      <th>7</th>\n",
       "      <td>8</td>\n",
       "      <td>prashant</td>\n",
       "      <td>30.0</td>\n",
       "      <td>80000</td>\n",
       "      <td>developer</td>\n",
       "      <td>9977553573</td>\n",
       "    </tr>\n",
       "    <tr>\n",
       "      <th>8</th>\n",
       "      <td>9</td>\n",
       "      <td>aditya singh</td>\n",
       "      <td>30.0</td>\n",
       "      <td>56000</td>\n",
       "      <td>developer</td>\n",
       "      <td>9927363636</td>\n",
       "    </tr>\n",
       "    <tr>\n",
       "      <th>9</th>\n",
       "      <td>10</td>\n",
       "      <td>ayushi</td>\n",
       "      <td>30.0</td>\n",
       "      <td>50000</td>\n",
       "      <td>developer</td>\n",
       "      <td>9956453324</td>\n",
       "    </tr>\n",
       "  </tbody>\n",
       "</table>\n",
       "</div>"
      ],
      "text/plain": [
       "   Sno             Name   Age  Salary        Designation      Mobile\n",
       "0    1    Shabeeh Abass  20.0   20000            manager  9956432321\n",
       "1    2           anjani  21.0   30000  software engineer  9936344113\n",
       "2    3           deepak  50.0   60000  software engineer  9936344113\n",
       "3    4           mayank  30.0   70000   assistant manger  8976543569\n",
       "4    5  Aishwarya singh   NaN   80000            manager  8876543292\n",
       "5    6      ayush singh  30.0   90000      region manger  9987654328\n",
       "6    7            neetu   NaN   70000   assistant manger  8897535637\n",
       "7    8         prashant  30.0   80000          developer  9977553573\n",
       "8    9     aditya singh  30.0   56000          developer  9927363636\n",
       "9   10           ayushi  30.0   50000          developer  9956453324"
      ]
     },
     "execution_count": 68,
     "metadata": {},
     "output_type": "execute_result"
    }
   ],
   "source": [
    "# Final run\n",
    "df['Salary'] = df['Salary'].apply(Salary_clean)\n",
    "df"
   ]
  },
  {
   "cell_type": "code",
   "execution_count": 69,
   "metadata": {},
   "outputs": [
    {
     "data": {
      "text/html": [
       "<div>\n",
       "<style scoped>\n",
       "    .dataframe tbody tr th:only-of-type {\n",
       "        vertical-align: middle;\n",
       "    }\n",
       "\n",
       "    .dataframe tbody tr th {\n",
       "        vertical-align: top;\n",
       "    }\n",
       "\n",
       "    .dataframe thead th {\n",
       "        text-align: right;\n",
       "    }\n",
       "</style>\n",
       "<table border=\"1\" class=\"dataframe\">\n",
       "  <thead>\n",
       "    <tr style=\"text-align: right;\">\n",
       "      <th></th>\n",
       "      <th>Sno</th>\n",
       "      <th>Name</th>\n",
       "      <th>Age</th>\n",
       "      <th>Salary</th>\n",
       "      <th>Designation</th>\n",
       "      <th>Mobile</th>\n",
       "    </tr>\n",
       "  </thead>\n",
       "  <tbody>\n",
       "    <tr>\n",
       "      <th>0</th>\n",
       "      <td>1</td>\n",
       "      <td>Shabeeh Abass</td>\n",
       "      <td>20.0</td>\n",
       "      <td>20000</td>\n",
       "      <td>manager</td>\n",
       "      <td>9956432321</td>\n",
       "    </tr>\n",
       "    <tr>\n",
       "      <th>1</th>\n",
       "      <td>2</td>\n",
       "      <td>anjani</td>\n",
       "      <td>21.0</td>\n",
       "      <td>30000</td>\n",
       "      <td>software engineer</td>\n",
       "      <td>9936344113</td>\n",
       "    </tr>\n",
       "    <tr>\n",
       "      <th>2</th>\n",
       "      <td>3</td>\n",
       "      <td>deepak</td>\n",
       "      <td>50.0</td>\n",
       "      <td>60000</td>\n",
       "      <td>software engineer</td>\n",
       "      <td>9936344113</td>\n",
       "    </tr>\n",
       "    <tr>\n",
       "      <th>3</th>\n",
       "      <td>4</td>\n",
       "      <td>mayank</td>\n",
       "      <td>30.0</td>\n",
       "      <td>70000</td>\n",
       "      <td>assistant manger</td>\n",
       "      <td>8976543569</td>\n",
       "    </tr>\n",
       "    <tr>\n",
       "      <th>5</th>\n",
       "      <td>6</td>\n",
       "      <td>ayush singh</td>\n",
       "      <td>30.0</td>\n",
       "      <td>90000</td>\n",
       "      <td>region manger</td>\n",
       "      <td>9987654328</td>\n",
       "    </tr>\n",
       "    <tr>\n",
       "      <th>7</th>\n",
       "      <td>8</td>\n",
       "      <td>prashant</td>\n",
       "      <td>30.0</td>\n",
       "      <td>80000</td>\n",
       "      <td>developer</td>\n",
       "      <td>9977553573</td>\n",
       "    </tr>\n",
       "    <tr>\n",
       "      <th>8</th>\n",
       "      <td>9</td>\n",
       "      <td>aditya singh</td>\n",
       "      <td>30.0</td>\n",
       "      <td>56000</td>\n",
       "      <td>developer</td>\n",
       "      <td>9927363636</td>\n",
       "    </tr>\n",
       "    <tr>\n",
       "      <th>9</th>\n",
       "      <td>10</td>\n",
       "      <td>ayushi</td>\n",
       "      <td>30.0</td>\n",
       "      <td>50000</td>\n",
       "      <td>developer</td>\n",
       "      <td>9956453324</td>\n",
       "    </tr>\n",
       "  </tbody>\n",
       "</table>\n",
       "</div>"
      ],
      "text/plain": [
       "   Sno           Name   Age  Salary        Designation      Mobile\n",
       "0    1  Shabeeh Abass  20.0   20000            manager  9956432321\n",
       "1    2         anjani  21.0   30000  software engineer  9936344113\n",
       "2    3         deepak  50.0   60000  software engineer  9936344113\n",
       "3    4         mayank  30.0   70000   assistant manger  8976543569\n",
       "5    6    ayush singh  30.0   90000      region manger  9987654328\n",
       "7    8       prashant  30.0   80000          developer  9977553573\n",
       "8    9   aditya singh  30.0   56000          developer  9927363636\n",
       "9   10         ayushi  30.0   50000          developer  9956453324"
      ]
     },
     "execution_count": 69,
     "metadata": {},
     "output_type": "execute_result"
    }
   ],
   "source": [
    "# don't do this ever\n",
    "df.dropna()"
   ]
  },
  {
   "cell_type": "code",
   "execution_count": 70,
   "metadata": {},
   "outputs": [
    {
     "data": {
      "text/html": [
       "<div>\n",
       "<style scoped>\n",
       "    .dataframe tbody tr th:only-of-type {\n",
       "        vertical-align: middle;\n",
       "    }\n",
       "\n",
       "    .dataframe tbody tr th {\n",
       "        vertical-align: top;\n",
       "    }\n",
       "\n",
       "    .dataframe thead th {\n",
       "        text-align: right;\n",
       "    }\n",
       "</style>\n",
       "<table border=\"1\" class=\"dataframe\">\n",
       "  <thead>\n",
       "    <tr style=\"text-align: right;\">\n",
       "      <th></th>\n",
       "      <th>Age</th>\n",
       "      <th>Salary</th>\n",
       "      <th>Designation</th>\n",
       "    </tr>\n",
       "  </thead>\n",
       "  <tbody>\n",
       "    <tr>\n",
       "      <th>0</th>\n",
       "      <td>20.0</td>\n",
       "      <td>20000</td>\n",
       "      <td>manager</td>\n",
       "    </tr>\n",
       "    <tr>\n",
       "      <th>1</th>\n",
       "      <td>21.0</td>\n",
       "      <td>30000</td>\n",
       "      <td>software engineer</td>\n",
       "    </tr>\n",
       "    <tr>\n",
       "      <th>2</th>\n",
       "      <td>50.0</td>\n",
       "      <td>60000</td>\n",
       "      <td>software engineer</td>\n",
       "    </tr>\n",
       "    <tr>\n",
       "      <th>3</th>\n",
       "      <td>30.0</td>\n",
       "      <td>70000</td>\n",
       "      <td>assistant manger</td>\n",
       "    </tr>\n",
       "    <tr>\n",
       "      <th>4</th>\n",
       "      <td>NaN</td>\n",
       "      <td>80000</td>\n",
       "      <td>manager</td>\n",
       "    </tr>\n",
       "    <tr>\n",
       "      <th>5</th>\n",
       "      <td>30.0</td>\n",
       "      <td>90000</td>\n",
       "      <td>region manger</td>\n",
       "    </tr>\n",
       "    <tr>\n",
       "      <th>6</th>\n",
       "      <td>NaN</td>\n",
       "      <td>70000</td>\n",
       "      <td>assistant manger</td>\n",
       "    </tr>\n",
       "    <tr>\n",
       "      <th>7</th>\n",
       "      <td>30.0</td>\n",
       "      <td>80000</td>\n",
       "      <td>developer</td>\n",
       "    </tr>\n",
       "    <tr>\n",
       "      <th>8</th>\n",
       "      <td>30.0</td>\n",
       "      <td>56000</td>\n",
       "      <td>developer</td>\n",
       "    </tr>\n",
       "    <tr>\n",
       "      <th>9</th>\n",
       "      <td>30.0</td>\n",
       "      <td>50000</td>\n",
       "      <td>developer</td>\n",
       "    </tr>\n",
       "  </tbody>\n",
       "</table>\n",
       "</div>"
      ],
      "text/plain": [
       "    Age  Salary        Designation\n",
       "0  20.0   20000            manager\n",
       "1  21.0   30000  software engineer\n",
       "2  50.0   60000  software engineer\n",
       "3  30.0   70000   assistant manger\n",
       "4   NaN   80000            manager\n",
       "5  30.0   90000      region manger\n",
       "6   NaN   70000   assistant manger\n",
       "7  30.0   80000          developer\n",
       "8  30.0   56000          developer\n",
       "9  30.0   50000          developer"
      ]
     },
     "execution_count": 70,
     "metadata": {},
     "output_type": "execute_result"
    }
   ],
   "source": [
    "# test run\n",
    "df.drop(['Mobile','Sno','Name'],axis=1)"
   ]
  },
  {
   "cell_type": "code",
   "execution_count": 71,
   "metadata": {},
   "outputs": [],
   "source": [
    "# final run\n",
    "df.drop(['Mobile','Sno','Name'],axis=1,inplace=True)"
   ]
  },
  {
   "cell_type": "code",
   "execution_count": 72,
   "metadata": {},
   "outputs": [
    {
     "data": {
      "text/html": [
       "<div>\n",
       "<style scoped>\n",
       "    .dataframe tbody tr th:only-of-type {\n",
       "        vertical-align: middle;\n",
       "    }\n",
       "\n",
       "    .dataframe tbody tr th {\n",
       "        vertical-align: top;\n",
       "    }\n",
       "\n",
       "    .dataframe thead th {\n",
       "        text-align: right;\n",
       "    }\n",
       "</style>\n",
       "<table border=\"1\" class=\"dataframe\">\n",
       "  <thead>\n",
       "    <tr style=\"text-align: right;\">\n",
       "      <th></th>\n",
       "      <th>Age</th>\n",
       "      <th>Salary</th>\n",
       "      <th>Designation</th>\n",
       "    </tr>\n",
       "  </thead>\n",
       "  <tbody>\n",
       "    <tr>\n",
       "      <th>0</th>\n",
       "      <td>20.0</td>\n",
       "      <td>20000</td>\n",
       "      <td>manager</td>\n",
       "    </tr>\n",
       "    <tr>\n",
       "      <th>1</th>\n",
       "      <td>21.0</td>\n",
       "      <td>30000</td>\n",
       "      <td>software engineer</td>\n",
       "    </tr>\n",
       "    <tr>\n",
       "      <th>2</th>\n",
       "      <td>50.0</td>\n",
       "      <td>60000</td>\n",
       "      <td>software engineer</td>\n",
       "    </tr>\n",
       "    <tr>\n",
       "      <th>3</th>\n",
       "      <td>30.0</td>\n",
       "      <td>70000</td>\n",
       "      <td>assistant manger</td>\n",
       "    </tr>\n",
       "    <tr>\n",
       "      <th>4</th>\n",
       "      <td>NaN</td>\n",
       "      <td>80000</td>\n",
       "      <td>manager</td>\n",
       "    </tr>\n",
       "    <tr>\n",
       "      <th>5</th>\n",
       "      <td>30.0</td>\n",
       "      <td>90000</td>\n",
       "      <td>region manger</td>\n",
       "    </tr>\n",
       "    <tr>\n",
       "      <th>6</th>\n",
       "      <td>NaN</td>\n",
       "      <td>70000</td>\n",
       "      <td>assistant manger</td>\n",
       "    </tr>\n",
       "    <tr>\n",
       "      <th>7</th>\n",
       "      <td>30.0</td>\n",
       "      <td>80000</td>\n",
       "      <td>developer</td>\n",
       "    </tr>\n",
       "    <tr>\n",
       "      <th>8</th>\n",
       "      <td>30.0</td>\n",
       "      <td>56000</td>\n",
       "      <td>developer</td>\n",
       "    </tr>\n",
       "    <tr>\n",
       "      <th>9</th>\n",
       "      <td>30.0</td>\n",
       "      <td>50000</td>\n",
       "      <td>developer</td>\n",
       "    </tr>\n",
       "  </tbody>\n",
       "</table>\n",
       "</div>"
      ],
      "text/plain": [
       "    Age  Salary        Designation\n",
       "0  20.0   20000            manager\n",
       "1  21.0   30000  software engineer\n",
       "2  50.0   60000  software engineer\n",
       "3  30.0   70000   assistant manger\n",
       "4   NaN   80000            manager\n",
       "5  30.0   90000      region manger\n",
       "6   NaN   70000   assistant manger\n",
       "7  30.0   80000          developer\n",
       "8  30.0   56000          developer\n",
       "9  30.0   50000          developer"
      ]
     },
     "execution_count": 72,
     "metadata": {},
     "output_type": "execute_result"
    }
   ],
   "source": [
    "df"
   ]
  },
  {
   "cell_type": "markdown",
   "metadata": {},
   "source": [
    "scikit-learn\n"
   ]
  },
  {
   "cell_type": "code",
   "execution_count": 73,
   "metadata": {},
   "outputs": [],
   "source": [
    "from sklearn.impute import SimpleImputer"
   ]
  },
  {
   "cell_type": "code",
   "execution_count": 74,
   "metadata": {},
   "outputs": [],
   "source": [
    "imputer=SimpleImputer()"
   ]
  },
  {
   "cell_type": "code",
   "execution_count": 75,
   "metadata": {},
   "outputs": [
    {
     "data": {
      "text/plain": [
       "array([[2.0000e+01, 2.0000e+04],\n",
       "       [2.1000e+01, 3.0000e+04],\n",
       "       [5.0000e+01, 6.0000e+04],\n",
       "       [3.0000e+01, 7.0000e+04],\n",
       "       [3.0125e+01, 8.0000e+04],\n",
       "       [3.0000e+01, 9.0000e+04],\n",
       "       [3.0125e+01, 7.0000e+04],\n",
       "       [3.0000e+01, 8.0000e+04],\n",
       "       [3.0000e+01, 5.6000e+04],\n",
       "       [3.0000e+01, 5.0000e+04]])"
      ]
     },
     "execution_count": 75,
     "metadata": {},
     "output_type": "execute_result"
    }
   ],
   "source": [
    "# trail run\n",
    "cols = ['Age','Salary']\n",
    "imputer.fit_transform(df[cols])"
   ]
  },
  {
   "cell_type": "code",
   "execution_count": 76,
   "metadata": {},
   "outputs": [
    {
     "data": {
      "text/html": [
       "<div>\n",
       "<style scoped>\n",
       "    .dataframe tbody tr th:only-of-type {\n",
       "        vertical-align: middle;\n",
       "    }\n",
       "\n",
       "    .dataframe tbody tr th {\n",
       "        vertical-align: top;\n",
       "    }\n",
       "\n",
       "    .dataframe thead th {\n",
       "        text-align: right;\n",
       "    }\n",
       "</style>\n",
       "<table border=\"1\" class=\"dataframe\">\n",
       "  <thead>\n",
       "    <tr style=\"text-align: right;\">\n",
       "      <th></th>\n",
       "      <th>Age</th>\n",
       "      <th>Salary</th>\n",
       "      <th>Designation</th>\n",
       "    </tr>\n",
       "  </thead>\n",
       "  <tbody>\n",
       "    <tr>\n",
       "      <th>0</th>\n",
       "      <td>20.000</td>\n",
       "      <td>20000.0</td>\n",
       "      <td>manager</td>\n",
       "    </tr>\n",
       "    <tr>\n",
       "      <th>1</th>\n",
       "      <td>21.000</td>\n",
       "      <td>30000.0</td>\n",
       "      <td>software engineer</td>\n",
       "    </tr>\n",
       "    <tr>\n",
       "      <th>2</th>\n",
       "      <td>50.000</td>\n",
       "      <td>60000.0</td>\n",
       "      <td>software engineer</td>\n",
       "    </tr>\n",
       "    <tr>\n",
       "      <th>3</th>\n",
       "      <td>30.000</td>\n",
       "      <td>70000.0</td>\n",
       "      <td>assistant manger</td>\n",
       "    </tr>\n",
       "    <tr>\n",
       "      <th>4</th>\n",
       "      <td>30.125</td>\n",
       "      <td>80000.0</td>\n",
       "      <td>manager</td>\n",
       "    </tr>\n",
       "    <tr>\n",
       "      <th>5</th>\n",
       "      <td>30.000</td>\n",
       "      <td>90000.0</td>\n",
       "      <td>region manger</td>\n",
       "    </tr>\n",
       "    <tr>\n",
       "      <th>6</th>\n",
       "      <td>30.125</td>\n",
       "      <td>70000.0</td>\n",
       "      <td>assistant manger</td>\n",
       "    </tr>\n",
       "    <tr>\n",
       "      <th>7</th>\n",
       "      <td>30.000</td>\n",
       "      <td>80000.0</td>\n",
       "      <td>developer</td>\n",
       "    </tr>\n",
       "    <tr>\n",
       "      <th>8</th>\n",
       "      <td>30.000</td>\n",
       "      <td>56000.0</td>\n",
       "      <td>developer</td>\n",
       "    </tr>\n",
       "    <tr>\n",
       "      <th>9</th>\n",
       "      <td>30.000</td>\n",
       "      <td>50000.0</td>\n",
       "      <td>developer</td>\n",
       "    </tr>\n",
       "  </tbody>\n",
       "</table>\n",
       "</div>"
      ],
      "text/plain": [
       "      Age   Salary        Designation\n",
       "0  20.000  20000.0            manager\n",
       "1  21.000  30000.0  software engineer\n",
       "2  50.000  60000.0  software engineer\n",
       "3  30.000  70000.0   assistant manger\n",
       "4  30.125  80000.0            manager\n",
       "5  30.000  90000.0      region manger\n",
       "6  30.125  70000.0   assistant manger\n",
       "7  30.000  80000.0          developer\n",
       "8  30.000  56000.0          developer\n",
       "9  30.000  50000.0          developer"
      ]
     },
     "execution_count": 76,
     "metadata": {},
     "output_type": "execute_result"
    }
   ],
   "source": [
    "#actual run\n",
    "cols=['Age','Salary']\n",
    "df[cols]=imputer.fit_transform(df[cols])\n",
    "df"
   ]
  },
  {
   "cell_type": "code",
   "execution_count": 77,
   "metadata": {},
   "outputs": [
    {
     "data": {
      "text/html": [
       "<div>\n",
       "<style scoped>\n",
       "    .dataframe tbody tr th:only-of-type {\n",
       "        vertical-align: middle;\n",
       "    }\n",
       "\n",
       "    .dataframe tbody tr th {\n",
       "        vertical-align: top;\n",
       "    }\n",
       "\n",
       "    .dataframe thead th {\n",
       "        text-align: right;\n",
       "    }\n",
       "</style>\n",
       "<table border=\"1\" class=\"dataframe\">\n",
       "  <thead>\n",
       "    <tr style=\"text-align: right;\">\n",
       "      <th></th>\n",
       "      <th>Age</th>\n",
       "      <th>Salary</th>\n",
       "      <th>Designation</th>\n",
       "    </tr>\n",
       "  </thead>\n",
       "  <tbody>\n",
       "    <tr>\n",
       "      <th>0</th>\n",
       "      <td>20.000</td>\n",
       "      <td>20000.0</td>\n",
       "      <td>manager</td>\n",
       "    </tr>\n",
       "    <tr>\n",
       "      <th>1</th>\n",
       "      <td>21.000</td>\n",
       "      <td>30000.0</td>\n",
       "      <td>software engineer</td>\n",
       "    </tr>\n",
       "    <tr>\n",
       "      <th>2</th>\n",
       "      <td>50.000</td>\n",
       "      <td>60000.0</td>\n",
       "      <td>software engineer</td>\n",
       "    </tr>\n",
       "    <tr>\n",
       "      <th>3</th>\n",
       "      <td>30.000</td>\n",
       "      <td>70000.0</td>\n",
       "      <td>assistant manger</td>\n",
       "    </tr>\n",
       "    <tr>\n",
       "      <th>4</th>\n",
       "      <td>30.125</td>\n",
       "      <td>80000.0</td>\n",
       "      <td>manager</td>\n",
       "    </tr>\n",
       "    <tr>\n",
       "      <th>5</th>\n",
       "      <td>30.000</td>\n",
       "      <td>90000.0</td>\n",
       "      <td>region manger</td>\n",
       "    </tr>\n",
       "    <tr>\n",
       "      <th>6</th>\n",
       "      <td>30.125</td>\n",
       "      <td>70000.0</td>\n",
       "      <td>assistant manger</td>\n",
       "    </tr>\n",
       "    <tr>\n",
       "      <th>7</th>\n",
       "      <td>30.000</td>\n",
       "      <td>80000.0</td>\n",
       "      <td>developer</td>\n",
       "    </tr>\n",
       "    <tr>\n",
       "      <th>8</th>\n",
       "      <td>30.000</td>\n",
       "      <td>56000.0</td>\n",
       "      <td>developer</td>\n",
       "    </tr>\n",
       "    <tr>\n",
       "      <th>9</th>\n",
       "      <td>30.000</td>\n",
       "      <td>50000.0</td>\n",
       "      <td>developer</td>\n",
       "    </tr>\n",
       "  </tbody>\n",
       "</table>\n",
       "</div>"
      ],
      "text/plain": [
       "      Age   Salary        Designation\n",
       "0  20.000  20000.0            manager\n",
       "1  21.000  30000.0  software engineer\n",
       "2  50.000  60000.0  software engineer\n",
       "3  30.000  70000.0   assistant manger\n",
       "4  30.125  80000.0            manager\n",
       "5  30.000  90000.0      region manger\n",
       "6  30.125  70000.0   assistant manger\n",
       "7  30.000  80000.0          developer\n",
       "8  30.000  56000.0          developer\n",
       "9  30.000  50000.0          developer"
      ]
     },
     "execution_count": 77,
     "metadata": {},
     "output_type": "execute_result"
    }
   ],
   "source": [
    "df"
   ]
  },
  {
   "cell_type": "code",
   "execution_count": 78,
   "metadata": {},
   "outputs": [
    {
     "data": {
      "text/plain": [
       "developer            3\n",
       "manager              2\n",
       "software engineer    2\n",
       "assistant manger     2\n",
       "region manger        1\n",
       "Name: Designation, dtype: int64"
      ]
     },
     "execution_count": 78,
     "metadata": {},
     "output_type": "execute_result"
    }
   ],
   "source": [
    "df['Designation'].value_counts()\n"
   ]
  },
  {
   "cell_type": "code",
   "execution_count": 79,
   "metadata": {},
   "outputs": [
    {
     "data": {
      "text/plain": [
       "array([['manager'],\n",
       "       ['software engineer'],\n",
       "       ['software engineer'],\n",
       "       ['assistant manger'],\n",
       "       ['manager'],\n",
       "       ['region manger'],\n",
       "       ['assistant manger'],\n",
       "       ['developer'],\n",
       "       ['developer'],\n",
       "       ['developer']], dtype=object)"
      ]
     },
     "execution_count": 79,
     "metadata": {},
     "output_type": "execute_result"
    }
   ],
   "source": [
    "# trial run\n",
    "imp2= SimpleImputer(strategy='most_frequent')\n",
    "imp2.fit_transform(df[['Designation']])"
   ]
  },
  {
   "cell_type": "code",
   "execution_count": 80,
   "metadata": {},
   "outputs": [
    {
     "data": {
      "text/html": [
       "<div>\n",
       "<style scoped>\n",
       "    .dataframe tbody tr th:only-of-type {\n",
       "        vertical-align: middle;\n",
       "    }\n",
       "\n",
       "    .dataframe tbody tr th {\n",
       "        vertical-align: top;\n",
       "    }\n",
       "\n",
       "    .dataframe thead th {\n",
       "        text-align: right;\n",
       "    }\n",
       "</style>\n",
       "<table border=\"1\" class=\"dataframe\">\n",
       "  <thead>\n",
       "    <tr style=\"text-align: right;\">\n",
       "      <th></th>\n",
       "      <th>Age</th>\n",
       "      <th>Salary</th>\n",
       "      <th>Designation</th>\n",
       "    </tr>\n",
       "  </thead>\n",
       "  <tbody>\n",
       "    <tr>\n",
       "      <th>0</th>\n",
       "      <td>20.000</td>\n",
       "      <td>20000.0</td>\n",
       "      <td>manager</td>\n",
       "    </tr>\n",
       "    <tr>\n",
       "      <th>1</th>\n",
       "      <td>21.000</td>\n",
       "      <td>30000.0</td>\n",
       "      <td>software engineer</td>\n",
       "    </tr>\n",
       "    <tr>\n",
       "      <th>2</th>\n",
       "      <td>50.000</td>\n",
       "      <td>60000.0</td>\n",
       "      <td>software engineer</td>\n",
       "    </tr>\n",
       "    <tr>\n",
       "      <th>3</th>\n",
       "      <td>30.000</td>\n",
       "      <td>70000.0</td>\n",
       "      <td>assistant manger</td>\n",
       "    </tr>\n",
       "    <tr>\n",
       "      <th>4</th>\n",
       "      <td>30.125</td>\n",
       "      <td>80000.0</td>\n",
       "      <td>manager</td>\n",
       "    </tr>\n",
       "    <tr>\n",
       "      <th>5</th>\n",
       "      <td>30.000</td>\n",
       "      <td>90000.0</td>\n",
       "      <td>region manger</td>\n",
       "    </tr>\n",
       "    <tr>\n",
       "      <th>6</th>\n",
       "      <td>30.125</td>\n",
       "      <td>70000.0</td>\n",
       "      <td>assistant manger</td>\n",
       "    </tr>\n",
       "    <tr>\n",
       "      <th>7</th>\n",
       "      <td>30.000</td>\n",
       "      <td>80000.0</td>\n",
       "      <td>developer</td>\n",
       "    </tr>\n",
       "    <tr>\n",
       "      <th>8</th>\n",
       "      <td>30.000</td>\n",
       "      <td>56000.0</td>\n",
       "      <td>developer</td>\n",
       "    </tr>\n",
       "    <tr>\n",
       "      <th>9</th>\n",
       "      <td>30.000</td>\n",
       "      <td>50000.0</td>\n",
       "      <td>developer</td>\n",
       "    </tr>\n",
       "  </tbody>\n",
       "</table>\n",
       "</div>"
      ],
      "text/plain": [
       "      Age   Salary        Designation\n",
       "0  20.000  20000.0            manager\n",
       "1  21.000  30000.0  software engineer\n",
       "2  50.000  60000.0  software engineer\n",
       "3  30.000  70000.0   assistant manger\n",
       "4  30.125  80000.0            manager\n",
       "5  30.000  90000.0      region manger\n",
       "6  30.125  70000.0   assistant manger\n",
       "7  30.000  80000.0          developer\n",
       "8  30.000  56000.0          developer\n",
       "9  30.000  50000.0          developer"
      ]
     },
     "execution_count": 80,
     "metadata": {},
     "output_type": "execute_result"
    }
   ],
   "source": [
    "#actual run\n",
    "df['Designation']=imp2.fit_transform(df[['Designation']])\n",
    "df"
   ]
  },
  {
   "cell_type": "markdown",
   "metadata": {},
   "source": [
    "no missing values\n"
   ]
  },
  {
   "cell_type": "code",
   "execution_count": 81,
   "metadata": {},
   "outputs": [
    {
     "data": {
      "text/html": [
       "<div>\n",
       "<style scoped>\n",
       "    .dataframe tbody tr th:only-of-type {\n",
       "        vertical-align: middle;\n",
       "    }\n",
       "\n",
       "    .dataframe tbody tr th {\n",
       "        vertical-align: top;\n",
       "    }\n",
       "\n",
       "    .dataframe thead th {\n",
       "        text-align: right;\n",
       "    }\n",
       "</style>\n",
       "<table border=\"1\" class=\"dataframe\">\n",
       "  <thead>\n",
       "    <tr style=\"text-align: right;\">\n",
       "      <th></th>\n",
       "      <th>Age</th>\n",
       "      <th>Salary</th>\n",
       "      <th>Designation</th>\n",
       "    </tr>\n",
       "  </thead>\n",
       "  <tbody>\n",
       "    <tr>\n",
       "      <th>0</th>\n",
       "      <td>20.000</td>\n",
       "      <td>20000.0</td>\n",
       "      <td>manager</td>\n",
       "    </tr>\n",
       "    <tr>\n",
       "      <th>1</th>\n",
       "      <td>21.000</td>\n",
       "      <td>30000.0</td>\n",
       "      <td>software engineer</td>\n",
       "    </tr>\n",
       "    <tr>\n",
       "      <th>2</th>\n",
       "      <td>50.000</td>\n",
       "      <td>60000.0</td>\n",
       "      <td>software engineer</td>\n",
       "    </tr>\n",
       "    <tr>\n",
       "      <th>3</th>\n",
       "      <td>30.000</td>\n",
       "      <td>70000.0</td>\n",
       "      <td>assistant manger</td>\n",
       "    </tr>\n",
       "    <tr>\n",
       "      <th>4</th>\n",
       "      <td>30.125</td>\n",
       "      <td>80000.0</td>\n",
       "      <td>manager</td>\n",
       "    </tr>\n",
       "    <tr>\n",
       "      <th>5</th>\n",
       "      <td>30.000</td>\n",
       "      <td>90000.0</td>\n",
       "      <td>region manger</td>\n",
       "    </tr>\n",
       "    <tr>\n",
       "      <th>6</th>\n",
       "      <td>30.125</td>\n",
       "      <td>70000.0</td>\n",
       "      <td>assistant manger</td>\n",
       "    </tr>\n",
       "    <tr>\n",
       "      <th>7</th>\n",
       "      <td>30.000</td>\n",
       "      <td>80000.0</td>\n",
       "      <td>developer</td>\n",
       "    </tr>\n",
       "    <tr>\n",
       "      <th>8</th>\n",
       "      <td>30.000</td>\n",
       "      <td>56000.0</td>\n",
       "      <td>developer</td>\n",
       "    </tr>\n",
       "    <tr>\n",
       "      <th>9</th>\n",
       "      <td>30.000</td>\n",
       "      <td>50000.0</td>\n",
       "      <td>developer</td>\n",
       "    </tr>\n",
       "  </tbody>\n",
       "</table>\n",
       "</div>"
      ],
      "text/plain": [
       "      Age   Salary        Designation\n",
       "0  20.000  20000.0            manager\n",
       "1  21.000  30000.0  software engineer\n",
       "2  50.000  60000.0  software engineer\n",
       "3  30.000  70000.0   assistant manger\n",
       "4  30.125  80000.0            manager\n",
       "5  30.000  90000.0      region manger\n",
       "6  30.125  70000.0   assistant manger\n",
       "7  30.000  80000.0          developer\n",
       "8  30.000  56000.0          developer\n",
       "9  30.000  50000.0          developer"
      ]
     },
     "execution_count": 81,
     "metadata": {},
     "output_type": "execute_result"
    }
   ],
   "source": [
    "df"
   ]
  },
  {
   "cell_type": "code",
   "execution_count": 82,
   "metadata": {},
   "outputs": [
    {
     "data": {
      "text/plain": [
       "2"
      ]
     },
     "execution_count": 82,
     "metadata": {},
     "output_type": "execute_result"
    }
   ],
   "source": [
    "df[['Designation']].ndim"
   ]
  },
  {
   "cell_type": "markdown",
   "metadata": {},
   "source": [
    "adding data to existing data frame"
   ]
  },
  {
   "cell_type": "code",
   "execution_count": 83,
   "metadata": {},
   "outputs": [],
   "source": [
    "gender=['male','female']*5"
   ]
  },
  {
   "cell_type": "code",
   "execution_count": 84,
   "metadata": {},
   "outputs": [],
   "source": [
    "df['Gender']=gender"
   ]
  },
  {
   "cell_type": "markdown",
   "metadata": {},
   "source": [
    "Renaming Columns"
   ]
  },
  {
   "cell_type": "code",
   "execution_count": 85,
   "metadata": {},
   "outputs": [
    {
     "data": {
      "text/html": [
       "<div>\n",
       "<style scoped>\n",
       "    .dataframe tbody tr th:only-of-type {\n",
       "        vertical-align: middle;\n",
       "    }\n",
       "\n",
       "    .dataframe tbody tr th {\n",
       "        vertical-align: top;\n",
       "    }\n",
       "\n",
       "    .dataframe thead th {\n",
       "        text-align: right;\n",
       "    }\n",
       "</style>\n",
       "<table border=\"1\" class=\"dataframe\">\n",
       "  <thead>\n",
       "    <tr style=\"text-align: right;\">\n",
       "      <th></th>\n",
       "      <th>Age</th>\n",
       "      <th>pay</th>\n",
       "      <th>Designation</th>\n",
       "      <th>Gender</th>\n",
       "    </tr>\n",
       "  </thead>\n",
       "  <tbody>\n",
       "    <tr>\n",
       "      <th>0</th>\n",
       "      <td>20.000</td>\n",
       "      <td>20000.0</td>\n",
       "      <td>manager</td>\n",
       "      <td>male</td>\n",
       "    </tr>\n",
       "    <tr>\n",
       "      <th>1</th>\n",
       "      <td>21.000</td>\n",
       "      <td>30000.0</td>\n",
       "      <td>software engineer</td>\n",
       "      <td>female</td>\n",
       "    </tr>\n",
       "    <tr>\n",
       "      <th>2</th>\n",
       "      <td>50.000</td>\n",
       "      <td>60000.0</td>\n",
       "      <td>software engineer</td>\n",
       "      <td>male</td>\n",
       "    </tr>\n",
       "    <tr>\n",
       "      <th>3</th>\n",
       "      <td>30.000</td>\n",
       "      <td>70000.0</td>\n",
       "      <td>assistant manger</td>\n",
       "      <td>female</td>\n",
       "    </tr>\n",
       "    <tr>\n",
       "      <th>4</th>\n",
       "      <td>30.125</td>\n",
       "      <td>80000.0</td>\n",
       "      <td>manager</td>\n",
       "      <td>male</td>\n",
       "    </tr>\n",
       "    <tr>\n",
       "      <th>5</th>\n",
       "      <td>30.000</td>\n",
       "      <td>90000.0</td>\n",
       "      <td>region manger</td>\n",
       "      <td>female</td>\n",
       "    </tr>\n",
       "    <tr>\n",
       "      <th>6</th>\n",
       "      <td>30.125</td>\n",
       "      <td>70000.0</td>\n",
       "      <td>assistant manger</td>\n",
       "      <td>male</td>\n",
       "    </tr>\n",
       "    <tr>\n",
       "      <th>7</th>\n",
       "      <td>30.000</td>\n",
       "      <td>80000.0</td>\n",
       "      <td>developer</td>\n",
       "      <td>female</td>\n",
       "    </tr>\n",
       "    <tr>\n",
       "      <th>8</th>\n",
       "      <td>30.000</td>\n",
       "      <td>56000.0</td>\n",
       "      <td>developer</td>\n",
       "      <td>male</td>\n",
       "    </tr>\n",
       "    <tr>\n",
       "      <th>9</th>\n",
       "      <td>30.000</td>\n",
       "      <td>50000.0</td>\n",
       "      <td>developer</td>\n",
       "      <td>female</td>\n",
       "    </tr>\n",
       "  </tbody>\n",
       "</table>\n",
       "</div>"
      ],
      "text/plain": [
       "      Age      pay        Designation  Gender\n",
       "0  20.000  20000.0            manager    male\n",
       "1  21.000  30000.0  software engineer  female\n",
       "2  50.000  60000.0  software engineer    male\n",
       "3  30.000  70000.0   assistant manger  female\n",
       "4  30.125  80000.0            manager    male\n",
       "5  30.000  90000.0      region manger  female\n",
       "6  30.125  70000.0   assistant manger    male\n",
       "7  30.000  80000.0          developer  female\n",
       "8  30.000  56000.0          developer    male\n",
       "9  30.000  50000.0          developer  female"
      ]
     },
     "execution_count": 85,
     "metadata": {},
     "output_type": "execute_result"
    }
   ],
   "source": [
    "#rename columns\n",
    "df.rename({'Salary':'pay'},axis=1,inplace=True)\n",
    "df"
   ]
  },
  {
   "cell_type": "code",
   "execution_count": 86,
   "metadata": {},
   "outputs": [
    {
     "data": {
      "text/plain": [
       "Age               20.0\n",
       "pay            20000.0\n",
       "Designation    manager\n",
       "Gender            male\n",
       "Name: 0, dtype: object"
      ]
     },
     "execution_count": 86,
     "metadata": {},
     "output_type": "execute_result"
    }
   ],
   "source": [
    "df.loc[0]"
   ]
  },
  {
   "cell_type": "code",
   "execution_count": 87,
   "metadata": {},
   "outputs": [],
   "source": [
    "row=[{\n",
    "    'Age':19,\n",
    "    'pay':934552,\n",
    "    'Designation':'manager',\n",
    "    \"Gender\":'Female'\n",
    "}]\n",
    "    "
   ]
  },
  {
   "cell_type": "code",
   "execution_count": 88,
   "metadata": {},
   "outputs": [],
   "source": [
    "df=df.append(row,ignore_index=True)"
   ]
  },
  {
   "cell_type": "code",
   "execution_count": 89,
   "metadata": {},
   "outputs": [
    {
     "data": {
      "text/html": [
       "<div>\n",
       "<style scoped>\n",
       "    .dataframe tbody tr th:only-of-type {\n",
       "        vertical-align: middle;\n",
       "    }\n",
       "\n",
       "    .dataframe tbody tr th {\n",
       "        vertical-align: top;\n",
       "    }\n",
       "\n",
       "    .dataframe thead th {\n",
       "        text-align: right;\n",
       "    }\n",
       "</style>\n",
       "<table border=\"1\" class=\"dataframe\">\n",
       "  <thead>\n",
       "    <tr style=\"text-align: right;\">\n",
       "      <th></th>\n",
       "      <th>Age</th>\n",
       "      <th>pay</th>\n",
       "      <th>Designation</th>\n",
       "      <th>Gender</th>\n",
       "    </tr>\n",
       "  </thead>\n",
       "  <tbody>\n",
       "    <tr>\n",
       "      <th>0</th>\n",
       "      <td>20.000</td>\n",
       "      <td>20000.0</td>\n",
       "      <td>manager</td>\n",
       "      <td>male</td>\n",
       "    </tr>\n",
       "    <tr>\n",
       "      <th>1</th>\n",
       "      <td>21.000</td>\n",
       "      <td>30000.0</td>\n",
       "      <td>software engineer</td>\n",
       "      <td>female</td>\n",
       "    </tr>\n",
       "    <tr>\n",
       "      <th>2</th>\n",
       "      <td>50.000</td>\n",
       "      <td>60000.0</td>\n",
       "      <td>software engineer</td>\n",
       "      <td>male</td>\n",
       "    </tr>\n",
       "    <tr>\n",
       "      <th>3</th>\n",
       "      <td>30.000</td>\n",
       "      <td>70000.0</td>\n",
       "      <td>assistant manger</td>\n",
       "      <td>female</td>\n",
       "    </tr>\n",
       "    <tr>\n",
       "      <th>4</th>\n",
       "      <td>30.125</td>\n",
       "      <td>80000.0</td>\n",
       "      <td>manager</td>\n",
       "      <td>male</td>\n",
       "    </tr>\n",
       "    <tr>\n",
       "      <th>5</th>\n",
       "      <td>30.000</td>\n",
       "      <td>90000.0</td>\n",
       "      <td>region manger</td>\n",
       "      <td>female</td>\n",
       "    </tr>\n",
       "    <tr>\n",
       "      <th>6</th>\n",
       "      <td>30.125</td>\n",
       "      <td>70000.0</td>\n",
       "      <td>assistant manger</td>\n",
       "      <td>male</td>\n",
       "    </tr>\n",
       "    <tr>\n",
       "      <th>7</th>\n",
       "      <td>30.000</td>\n",
       "      <td>80000.0</td>\n",
       "      <td>developer</td>\n",
       "      <td>female</td>\n",
       "    </tr>\n",
       "    <tr>\n",
       "      <th>8</th>\n",
       "      <td>30.000</td>\n",
       "      <td>56000.0</td>\n",
       "      <td>developer</td>\n",
       "      <td>male</td>\n",
       "    </tr>\n",
       "    <tr>\n",
       "      <th>9</th>\n",
       "      <td>30.000</td>\n",
       "      <td>50000.0</td>\n",
       "      <td>developer</td>\n",
       "      <td>female</td>\n",
       "    </tr>\n",
       "    <tr>\n",
       "      <th>10</th>\n",
       "      <td>19.000</td>\n",
       "      <td>934552.0</td>\n",
       "      <td>manager</td>\n",
       "      <td>Female</td>\n",
       "    </tr>\n",
       "  </tbody>\n",
       "</table>\n",
       "</div>"
      ],
      "text/plain": [
       "       Age       pay        Designation  Gender\n",
       "0   20.000   20000.0            manager    male\n",
       "1   21.000   30000.0  software engineer  female\n",
       "2   50.000   60000.0  software engineer    male\n",
       "3   30.000   70000.0   assistant manger  female\n",
       "4   30.125   80000.0            manager    male\n",
       "5   30.000   90000.0      region manger  female\n",
       "6   30.125   70000.0   assistant manger    male\n",
       "7   30.000   80000.0          developer  female\n",
       "8   30.000   56000.0          developer    male\n",
       "9   30.000   50000.0          developer  female\n",
       "10  19.000  934552.0            manager  Female"
      ]
     },
     "execution_count": 89,
     "metadata": {},
     "output_type": "execute_result"
    }
   ],
   "source": [
    "df"
   ]
  },
  {
   "cell_type": "code",
   "execution_count": 90,
   "metadata": {},
   "outputs": [
    {
     "data": {
      "text/plain": [
       "male      5\n",
       "female    5\n",
       "Female    1\n",
       "Name: Gender, dtype: int64"
      ]
     },
     "execution_count": 90,
     "metadata": {},
     "output_type": "execute_result"
    }
   ],
   "source": [
    "df['Gender'].value_counts()"
   ]
  },
  {
   "cell_type": "code",
   "execution_count": 91,
   "metadata": {},
   "outputs": [],
   "source": [
    "from sklearn.preprocessing import LabelEncoder"
   ]
  },
  {
   "cell_type": "code",
   "execution_count": 92,
   "metadata": {},
   "outputs": [
    {
     "data": {
      "text/plain": [
       "LabelEncoder()"
      ]
     },
     "execution_count": 92,
     "metadata": {},
     "output_type": "execute_result"
    }
   ],
   "source": [
    "gender_enc = LabelEncoder()\n",
    "gender_enc.fit(df['Gender'])"
   ]
  },
  {
   "cell_type": "code",
   "execution_count": 93,
   "metadata": {},
   "outputs": [
    {
     "data": {
      "text/plain": [
       "array([2, 1, 2, 1, 2, 1, 2, 1, 2, 1, 0])"
      ]
     },
     "execution_count": 93,
     "metadata": {},
     "output_type": "execute_result"
    }
   ],
   "source": [
    "gender_enc.transform(df['Gender'])"
   ]
  },
  {
   "cell_type": "code",
   "execution_count": 94,
   "metadata": {},
   "outputs": [
    {
     "data": {
      "text/html": [
       "<div>\n",
       "<style scoped>\n",
       "    .dataframe tbody tr th:only-of-type {\n",
       "        vertical-align: middle;\n",
       "    }\n",
       "\n",
       "    .dataframe tbody tr th {\n",
       "        vertical-align: top;\n",
       "    }\n",
       "\n",
       "    .dataframe thead th {\n",
       "        text-align: right;\n",
       "    }\n",
       "</style>\n",
       "<table border=\"1\" class=\"dataframe\">\n",
       "  <thead>\n",
       "    <tr style=\"text-align: right;\">\n",
       "      <th></th>\n",
       "      <th>Age</th>\n",
       "      <th>pay</th>\n",
       "      <th>Designation</th>\n",
       "      <th>Gender</th>\n",
       "    </tr>\n",
       "  </thead>\n",
       "  <tbody>\n",
       "    <tr>\n",
       "      <th>0</th>\n",
       "      <td>20.000</td>\n",
       "      <td>20000.0</td>\n",
       "      <td>manager</td>\n",
       "      <td>2</td>\n",
       "    </tr>\n",
       "    <tr>\n",
       "      <th>1</th>\n",
       "      <td>21.000</td>\n",
       "      <td>30000.0</td>\n",
       "      <td>software engineer</td>\n",
       "      <td>1</td>\n",
       "    </tr>\n",
       "    <tr>\n",
       "      <th>2</th>\n",
       "      <td>50.000</td>\n",
       "      <td>60000.0</td>\n",
       "      <td>software engineer</td>\n",
       "      <td>2</td>\n",
       "    </tr>\n",
       "    <tr>\n",
       "      <th>3</th>\n",
       "      <td>30.000</td>\n",
       "      <td>70000.0</td>\n",
       "      <td>assistant manger</td>\n",
       "      <td>1</td>\n",
       "    </tr>\n",
       "    <tr>\n",
       "      <th>4</th>\n",
       "      <td>30.125</td>\n",
       "      <td>80000.0</td>\n",
       "      <td>manager</td>\n",
       "      <td>2</td>\n",
       "    </tr>\n",
       "    <tr>\n",
       "      <th>5</th>\n",
       "      <td>30.000</td>\n",
       "      <td>90000.0</td>\n",
       "      <td>region manger</td>\n",
       "      <td>1</td>\n",
       "    </tr>\n",
       "    <tr>\n",
       "      <th>6</th>\n",
       "      <td>30.125</td>\n",
       "      <td>70000.0</td>\n",
       "      <td>assistant manger</td>\n",
       "      <td>2</td>\n",
       "    </tr>\n",
       "    <tr>\n",
       "      <th>7</th>\n",
       "      <td>30.000</td>\n",
       "      <td>80000.0</td>\n",
       "      <td>developer</td>\n",
       "      <td>1</td>\n",
       "    </tr>\n",
       "    <tr>\n",
       "      <th>8</th>\n",
       "      <td>30.000</td>\n",
       "      <td>56000.0</td>\n",
       "      <td>developer</td>\n",
       "      <td>2</td>\n",
       "    </tr>\n",
       "    <tr>\n",
       "      <th>9</th>\n",
       "      <td>30.000</td>\n",
       "      <td>50000.0</td>\n",
       "      <td>developer</td>\n",
       "      <td>1</td>\n",
       "    </tr>\n",
       "    <tr>\n",
       "      <th>10</th>\n",
       "      <td>19.000</td>\n",
       "      <td>934552.0</td>\n",
       "      <td>manager</td>\n",
       "      <td>0</td>\n",
       "    </tr>\n",
       "  </tbody>\n",
       "</table>\n",
       "</div>"
      ],
      "text/plain": [
       "       Age       pay        Designation  Gender\n",
       "0   20.000   20000.0            manager       2\n",
       "1   21.000   30000.0  software engineer       1\n",
       "2   50.000   60000.0  software engineer       2\n",
       "3   30.000   70000.0   assistant manger       1\n",
       "4   30.125   80000.0            manager       2\n",
       "5   30.000   90000.0      region manger       1\n",
       "6   30.125   70000.0   assistant manger       2\n",
       "7   30.000   80000.0          developer       1\n",
       "8   30.000   56000.0          developer       2\n",
       "9   30.000   50000.0          developer       1\n",
       "10  19.000  934552.0            manager       0"
      ]
     },
     "execution_count": 94,
     "metadata": {},
     "output_type": "execute_result"
    }
   ],
   "source": [
    "df['Gender']=gender_enc.transform(df['Gender'])\n",
    "df"
   ]
  },
  {
   "cell_type": "code",
   "execution_count": 95,
   "metadata": {},
   "outputs": [
    {
     "data": {
      "text/plain": [
       "array(['Female', 'female', 'male'], dtype=object)"
      ]
     },
     "execution_count": 95,
     "metadata": {},
     "output_type": "execute_result"
    }
   ],
   "source": [
    "gender_enc.classes_"
   ]
  },
  {
   "cell_type": "code",
   "execution_count": 96,
   "metadata": {},
   "outputs": [
    {
     "data": {
      "text/plain": [
       "array(['Female', 'female', 'female'], dtype=object)"
      ]
     },
     "execution_count": 96,
     "metadata": {},
     "output_type": "execute_result"
    }
   ],
   "source": [
    "gender_enc.inverse_transform([0,1,1]) #decode"
   ]
  },
  {
   "cell_type": "code",
   "execution_count": 97,
   "metadata": {},
   "outputs": [
    {
     "data": {
      "text/plain": [
       "manager              3\n",
       "developer            3\n",
       "software engineer    2\n",
       "assistant manger     2\n",
       "region manger        1\n",
       "Name: Designation, dtype: int64"
      ]
     },
     "execution_count": 97,
     "metadata": {},
     "output_type": "execute_result"
    }
   ],
   "source": [
    "df.Designation.value_counts()"
   ]
  },
  {
   "cell_type": "code",
   "execution_count": 98,
   "metadata": {},
   "outputs": [
    {
     "data": {
      "text/plain": [
       "array(['manager', 'software engineer', 'assistant manger',\n",
       "       'region manger', 'developer'], dtype=object)"
      ]
     },
     "execution_count": 98,
     "metadata": {},
     "output_type": "execute_result"
    }
   ],
   "source": [
    "df.Designation.unique()"
   ]
  },
  {
   "cell_type": "code",
   "execution_count": 99,
   "metadata": {},
   "outputs": [
    {
     "data": {
      "text/plain": [
       "5"
      ]
     },
     "execution_count": 99,
     "metadata": {},
     "output_type": "execute_result"
    }
   ],
   "source": [
    "df.Designation.nunique()"
   ]
  },
  {
   "cell_type": "code",
   "execution_count": 100,
   "metadata": {},
   "outputs": [
    {
     "data": {
      "text/plain": [
       "array([[20.0, 20000.0, 'manager', 2],\n",
       "       [21.0, 30000.0, 'software engineer', 1],\n",
       "       [50.0, 60000.0, 'software engineer', 2],\n",
       "       [30.0, 70000.0, 'assistant manger', 1],\n",
       "       [30.125, 80000.0, 'manager', 2],\n",
       "       [30.0, 90000.0, 'region manger', 1],\n",
       "       [30.125, 70000.0, 'assistant manger', 2],\n",
       "       [30.0, 80000.0, 'developer', 1],\n",
       "       [30.0, 56000.0, 'developer', 2],\n",
       "       [30.0, 50000.0, 'developer', 1],\n",
       "       [19.0, 934552.0, 'manager', 0]], dtype=object)"
      ]
     },
     "execution_count": 100,
     "metadata": {},
     "output_type": "execute_result"
    }
   ],
   "source": [
    "df.values"
   ]
  },
  {
   "cell_type": "code",
   "execution_count": 101,
   "metadata": {},
   "outputs": [],
   "source": [
    "from sklearn.preprocessing import OneHotEncoder\n"
   ]
  },
  {
   "cell_type": "code",
   "execution_count": 102,
   "metadata": {},
   "outputs": [
    {
     "data": {
      "text/plain": [
       "OneHotEncoder()"
      ]
     },
     "execution_count": 102,
     "metadata": {},
     "output_type": "execute_result"
    }
   ],
   "source": [
    "desig_enc = OneHotEncoder()\n",
    "desig_enc.fit(df[['Designation']])\n",
    "\n"
   ]
  },
  {
   "cell_type": "code",
   "execution_count": 103,
   "metadata": {},
   "outputs": [
    {
     "data": {
      "text/html": [
       "<div>\n",
       "<style scoped>\n",
       "    .dataframe tbody tr th:only-of-type {\n",
       "        vertical-align: middle;\n",
       "    }\n",
       "\n",
       "    .dataframe tbody tr th {\n",
       "        vertical-align: top;\n",
       "    }\n",
       "\n",
       "    .dataframe thead th {\n",
       "        text-align: right;\n",
       "    }\n",
       "</style>\n",
       "<table border=\"1\" class=\"dataframe\">\n",
       "  <thead>\n",
       "    <tr style=\"text-align: right;\">\n",
       "      <th></th>\n",
       "      <th>Age</th>\n",
       "      <th>pay</th>\n",
       "      <th>Designation</th>\n",
       "      <th>Gender</th>\n",
       "    </tr>\n",
       "  </thead>\n",
       "  <tbody>\n",
       "    <tr>\n",
       "      <th>0</th>\n",
       "      <td>20.000</td>\n",
       "      <td>20000.0</td>\n",
       "      <td>manager</td>\n",
       "      <td>2</td>\n",
       "    </tr>\n",
       "    <tr>\n",
       "      <th>1</th>\n",
       "      <td>21.000</td>\n",
       "      <td>30000.0</td>\n",
       "      <td>software engineer</td>\n",
       "      <td>1</td>\n",
       "    </tr>\n",
       "    <tr>\n",
       "      <th>2</th>\n",
       "      <td>50.000</td>\n",
       "      <td>60000.0</td>\n",
       "      <td>software engineer</td>\n",
       "      <td>2</td>\n",
       "    </tr>\n",
       "    <tr>\n",
       "      <th>3</th>\n",
       "      <td>30.000</td>\n",
       "      <td>70000.0</td>\n",
       "      <td>assistant manger</td>\n",
       "      <td>1</td>\n",
       "    </tr>\n",
       "    <tr>\n",
       "      <th>4</th>\n",
       "      <td>30.125</td>\n",
       "      <td>80000.0</td>\n",
       "      <td>manager</td>\n",
       "      <td>2</td>\n",
       "    </tr>\n",
       "    <tr>\n",
       "      <th>5</th>\n",
       "      <td>30.000</td>\n",
       "      <td>90000.0</td>\n",
       "      <td>region manger</td>\n",
       "      <td>1</td>\n",
       "    </tr>\n",
       "    <tr>\n",
       "      <th>6</th>\n",
       "      <td>30.125</td>\n",
       "      <td>70000.0</td>\n",
       "      <td>assistant manger</td>\n",
       "      <td>2</td>\n",
       "    </tr>\n",
       "    <tr>\n",
       "      <th>7</th>\n",
       "      <td>30.000</td>\n",
       "      <td>80000.0</td>\n",
       "      <td>developer</td>\n",
       "      <td>1</td>\n",
       "    </tr>\n",
       "    <tr>\n",
       "      <th>8</th>\n",
       "      <td>30.000</td>\n",
       "      <td>56000.0</td>\n",
       "      <td>developer</td>\n",
       "      <td>2</td>\n",
       "    </tr>\n",
       "    <tr>\n",
       "      <th>9</th>\n",
       "      <td>30.000</td>\n",
       "      <td>50000.0</td>\n",
       "      <td>developer</td>\n",
       "      <td>1</td>\n",
       "    </tr>\n",
       "    <tr>\n",
       "      <th>10</th>\n",
       "      <td>19.000</td>\n",
       "      <td>934552.0</td>\n",
       "      <td>manager</td>\n",
       "      <td>0</td>\n",
       "    </tr>\n",
       "  </tbody>\n",
       "</table>\n",
       "</div>"
      ],
      "text/plain": [
       "       Age       pay        Designation  Gender\n",
       "0   20.000   20000.0            manager       2\n",
       "1   21.000   30000.0  software engineer       1\n",
       "2   50.000   60000.0  software engineer       2\n",
       "3   30.000   70000.0   assistant manger       1\n",
       "4   30.125   80000.0            manager       2\n",
       "5   30.000   90000.0      region manger       1\n",
       "6   30.125   70000.0   assistant manger       2\n",
       "7   30.000   80000.0          developer       1\n",
       "8   30.000   56000.0          developer       2\n",
       "9   30.000   50000.0          developer       1\n",
       "10  19.000  934552.0            manager       0"
      ]
     },
     "execution_count": 103,
     "metadata": {},
     "output_type": "execute_result"
    }
   ],
   "source": [
    "df"
   ]
  },
  {
   "cell_type": "code",
   "execution_count": 104,
   "metadata": {},
   "outputs": [
    {
     "data": {
      "text/plain": [
       "array([[0., 0., 1., 0., 0.],\n",
       "       [0., 0., 0., 0., 1.],\n",
       "       [0., 0., 0., 0., 1.],\n",
       "       [1., 0., 0., 0., 0.],\n",
       "       [0., 0., 1., 0., 0.],\n",
       "       [0., 0., 0., 1., 0.],\n",
       "       [1., 0., 0., 0., 0.],\n",
       "       [0., 1., 0., 0., 0.],\n",
       "       [0., 1., 0., 0., 0.],\n",
       "       [0., 1., 0., 0., 0.],\n",
       "       [0., 0., 1., 0., 0.]])"
      ]
     },
     "execution_count": 104,
     "metadata": {},
     "output_type": "execute_result"
    }
   ],
   "source": [
    "Designation_dummies = desig_enc.transform(df[['Designation']]).toarray()\n",
    "Designation_dummies\n"
   ]
  },
  {
   "cell_type": "code",
   "execution_count": 105,
   "metadata": {},
   "outputs": [],
   "source": [
    "df.drop(columns=['Designation'],axis=1,inplace=True)"
   ]
  },
  {
   "cell_type": "code",
   "execution_count": 106,
   "metadata": {},
   "outputs": [],
   "source": [
    "import numpy as np"
   ]
  },
  {
   "cell_type": "code",
   "execution_count": 107,
   "metadata": {},
   "outputs": [
    {
     "data": {
      "text/plain": [
       "(11, 8)"
      ]
     },
     "execution_count": 107,
     "metadata": {},
     "output_type": "execute_result"
    }
   ],
   "source": [
    "data = np.hstack((Designation_dummies,df.values))\n",
    "data.shape\n"
   ]
  },
  {
   "cell_type": "code",
   "execution_count": 108,
   "metadata": {},
   "outputs": [
    {
     "data": {
      "text/html": [
       "<div>\n",
       "<style scoped>\n",
       "    .dataframe tbody tr th:only-of-type {\n",
       "        vertical-align: middle;\n",
       "    }\n",
       "\n",
       "    .dataframe tbody tr th {\n",
       "        vertical-align: top;\n",
       "    }\n",
       "\n",
       "    .dataframe thead th {\n",
       "        text-align: right;\n",
       "    }\n",
       "</style>\n",
       "<table border=\"1\" class=\"dataframe\">\n",
       "  <thead>\n",
       "    <tr style=\"text-align: right;\">\n",
       "      <th></th>\n",
       "      <th>0</th>\n",
       "      <th>1</th>\n",
       "      <th>2</th>\n",
       "      <th>3</th>\n",
       "      <th>4</th>\n",
       "    </tr>\n",
       "  </thead>\n",
       "  <tbody>\n",
       "    <tr>\n",
       "      <th>0</th>\n",
       "      <td>0.0</td>\n",
       "      <td>0.0</td>\n",
       "      <td>1.0</td>\n",
       "      <td>0.0</td>\n",
       "      <td>0.0</td>\n",
       "    </tr>\n",
       "    <tr>\n",
       "      <th>1</th>\n",
       "      <td>0.0</td>\n",
       "      <td>0.0</td>\n",
       "      <td>0.0</td>\n",
       "      <td>0.0</td>\n",
       "      <td>1.0</td>\n",
       "    </tr>\n",
       "    <tr>\n",
       "      <th>2</th>\n",
       "      <td>0.0</td>\n",
       "      <td>0.0</td>\n",
       "      <td>0.0</td>\n",
       "      <td>0.0</td>\n",
       "      <td>1.0</td>\n",
       "    </tr>\n",
       "    <tr>\n",
       "      <th>3</th>\n",
       "      <td>1.0</td>\n",
       "      <td>0.0</td>\n",
       "      <td>0.0</td>\n",
       "      <td>0.0</td>\n",
       "      <td>0.0</td>\n",
       "    </tr>\n",
       "    <tr>\n",
       "      <th>4</th>\n",
       "      <td>0.0</td>\n",
       "      <td>0.0</td>\n",
       "      <td>1.0</td>\n",
       "      <td>0.0</td>\n",
       "      <td>0.0</td>\n",
       "    </tr>\n",
       "    <tr>\n",
       "      <th>5</th>\n",
       "      <td>0.0</td>\n",
       "      <td>0.0</td>\n",
       "      <td>0.0</td>\n",
       "      <td>1.0</td>\n",
       "      <td>0.0</td>\n",
       "    </tr>\n",
       "    <tr>\n",
       "      <th>6</th>\n",
       "      <td>1.0</td>\n",
       "      <td>0.0</td>\n",
       "      <td>0.0</td>\n",
       "      <td>0.0</td>\n",
       "      <td>0.0</td>\n",
       "    </tr>\n",
       "    <tr>\n",
       "      <th>7</th>\n",
       "      <td>0.0</td>\n",
       "      <td>1.0</td>\n",
       "      <td>0.0</td>\n",
       "      <td>0.0</td>\n",
       "      <td>0.0</td>\n",
       "    </tr>\n",
       "    <tr>\n",
       "      <th>8</th>\n",
       "      <td>0.0</td>\n",
       "      <td>1.0</td>\n",
       "      <td>0.0</td>\n",
       "      <td>0.0</td>\n",
       "      <td>0.0</td>\n",
       "    </tr>\n",
       "    <tr>\n",
       "      <th>9</th>\n",
       "      <td>0.0</td>\n",
       "      <td>1.0</td>\n",
       "      <td>0.0</td>\n",
       "      <td>0.0</td>\n",
       "      <td>0.0</td>\n",
       "    </tr>\n",
       "    <tr>\n",
       "      <th>10</th>\n",
       "      <td>0.0</td>\n",
       "      <td>0.0</td>\n",
       "      <td>1.0</td>\n",
       "      <td>0.0</td>\n",
       "      <td>0.0</td>\n",
       "    </tr>\n",
       "  </tbody>\n",
       "</table>\n",
       "</div>"
      ],
      "text/plain": [
       "      0    1    2    3    4\n",
       "0   0.0  0.0  1.0  0.0  0.0\n",
       "1   0.0  0.0  0.0  0.0  1.0\n",
       "2   0.0  0.0  0.0  0.0  1.0\n",
       "3   1.0  0.0  0.0  0.0  0.0\n",
       "4   0.0  0.0  1.0  0.0  0.0\n",
       "5   0.0  0.0  0.0  1.0  0.0\n",
       "6   1.0  0.0  0.0  0.0  0.0\n",
       "7   0.0  1.0  0.0  0.0  0.0\n",
       "8   0.0  1.0  0.0  0.0  0.0\n",
       "9   0.0  1.0  0.0  0.0  0.0\n",
       "10  0.0  0.0  1.0  0.0  0.0"
      ]
     },
     "execution_count": 108,
     "metadata": {},
     "output_type": "execute_result"
    }
   ],
   "source": [
    "# option 2(better version)\n",
    "desig_dummy_df=pd.DataFrame(Designation_dummies)\n",
    "desig_dummy_df"
   ]
  },
  {
   "cell_type": "code",
   "execution_count": 109,
   "metadata": {},
   "outputs": [],
   "source": [
    "data_df = pd.concat([desig_dummy_df,df],axis=1)"
   ]
  },
  {
   "cell_type": "code",
   "execution_count": 110,
   "metadata": {},
   "outputs": [],
   "source": [
    "from sklearn.preprocessing import StandardScaler,MinMaxScaler"
   ]
  },
  {
   "cell_type": "code",
   "execution_count": 111,
   "metadata": {},
   "outputs": [
    {
     "name": "stdout",
     "output_type": "stream",
     "text": [
      "[[0.         0.         1.         0.         0.         0.03225806\n",
      "  0.         1.        ]\n",
      " [0.         0.         0.         0.         1.         0.06451613\n",
      "  0.01093432 0.5       ]\n",
      " [0.         0.         0.         0.         1.         1.\n",
      "  0.04373726 1.        ]\n",
      " [1.         0.         0.         0.         0.         0.35483871\n",
      "  0.05467158 0.5       ]\n",
      " [0.         0.         1.         0.         0.         0.35887097\n",
      "  0.06560589 1.        ]\n",
      " [0.         0.         0.         1.         0.         0.35483871\n",
      "  0.07654021 0.5       ]\n",
      " [1.         0.         0.         0.         0.         0.35887097\n",
      "  0.05467158 1.        ]\n",
      " [0.         1.         0.         0.         0.         0.35483871\n",
      "  0.06560589 0.5       ]\n",
      " [0.         1.         0.         0.         0.         0.35483871\n",
      "  0.03936354 1.        ]\n",
      " [0.         1.         0.         0.         0.         0.35483871\n",
      "  0.03280295 0.5       ]\n",
      " [0.         0.         1.         0.         0.         0.\n",
      "  1.         0.        ]]\n"
     ]
    },
    {
     "name": "stderr",
     "output_type": "stream",
     "text": [
      "C:\\Users\\varun\\AppData\\Local\\Programs\\Python\\Python39\\lib\\site-packages\\sklearn\\utils\\validation.py:1688: FutureWarning: Feature names only support names that are all strings. Got feature names with dtypes: ['int', 'str']. An error will be raised in 1.2.\n",
      "  warnings.warn(\n",
      "C:\\Users\\varun\\AppData\\Local\\Programs\\Python\\Python39\\lib\\site-packages\\sklearn\\utils\\validation.py:1688: FutureWarning: Feature names only support names that are all strings. Got feature names with dtypes: ['int', 'str']. An error will be raised in 1.2.\n",
      "  warnings.warn(\n"
     ]
    }
   ],
   "source": [
    "mxScalar = MinMaxScaler()\n",
    "mxScalar.fit(data_df)\n",
    "scaled_data=mxScalar.transform(data_df)\n",
    "print(scaled_data)\n"
   ]
  },
  {
   "cell_type": "code",
   "execution_count": 112,
   "metadata": {},
   "outputs": [
    {
     "name": "stdout",
     "output_type": "stream",
     "text": [
      "[[0.         0.         1.         0.         0.         0.03225806\n",
      "  0.         1.        ]\n",
      " [0.         0.         0.         0.         1.         0.06451613\n",
      "  0.01093432 0.5       ]\n",
      " [0.         0.         0.         0.         1.         1.\n",
      "  0.04373726 1.        ]\n",
      " [1.         0.         0.         0.         0.         0.35483871\n",
      "  0.05467158 0.5       ]\n",
      " [0.         0.         1.         0.         0.         0.35887097\n",
      "  0.06560589 1.        ]\n",
      " [0.         0.         0.         1.         0.         0.35483871\n",
      "  0.07654021 0.5       ]\n",
      " [1.         0.         0.         0.         0.         0.35887097\n",
      "  0.05467158 1.        ]\n",
      " [0.         1.         0.         0.         0.         0.35483871\n",
      "  0.06560589 0.5       ]\n",
      " [0.         1.         0.         0.         0.         0.35483871\n",
      "  0.03936354 1.        ]\n",
      " [0.         1.         0.         0.         0.         0.35483871\n",
      "  0.03280295 0.5       ]\n",
      " [0.         0.         1.         0.         0.         0.\n",
      "  1.         0.        ]]\n"
     ]
    },
    {
     "name": "stderr",
     "output_type": "stream",
     "text": [
      "C:\\Users\\varun\\AppData\\Local\\Programs\\Python\\Python39\\lib\\site-packages\\sklearn\\utils\\validation.py:1688: FutureWarning: Feature names only support names that are all strings. Got feature names with dtypes: ['int', 'str']. An error will be raised in 1.2.\n",
      "  warnings.warn(\n",
      "C:\\Users\\varun\\AppData\\Local\\Programs\\Python\\Python39\\lib\\site-packages\\sklearn\\utils\\validation.py:1688: FutureWarning: Feature names only support names that are all strings. Got feature names with dtypes: ['int', 'str']. An error will be raised in 1.2.\n",
      "  warnings.warn(\n"
     ]
    }
   ],
   "source": [
    "# this is used in Coding\n",
    "stdScalar = StandardScaler()\n",
    "mxScalar.fit(data_df)\n",
    "scaled_data=mxScalar.transform(data_df)\n",
    "print(scaled_data)"
   ]
  },
  {
   "cell_type": "code",
   "execution_count": null,
   "metadata": {},
   "outputs": [],
   "source": []
  }
 ],
 "metadata": {
  "interpreter": {
   "hash": "8bb03ca56bbb0d66701c3a6d045ba270c43b6efe569796c3fda6869516a6e85c"
  },
  "kernelspec": {
   "display_name": "Python 3.9.7 64-bit ('digi': conda)",
   "language": "python",
   "name": "python3"
  },
  "language_info": {
   "codemirror_mode": {
    "name": "ipython",
    "version": 3
   },
   "file_extension": ".py",
   "mimetype": "text/x-python",
   "name": "python",
   "nbconvert_exporter": "python",
   "pygments_lexer": "ipython3",
   "version": "3.9.7"
  },
  "orig_nbformat": 4
 },
 "nbformat": 4,
 "nbformat_minor": 2
}
